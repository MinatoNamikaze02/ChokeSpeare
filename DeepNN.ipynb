{
 "cells": [
  {
   "cell_type": "code",
   "execution_count": 42,
   "metadata": {},
   "outputs": [],
   "source": [
    "import torch\n",
    "import torch.nn.functional as F\n",
    "import matplotlib.pyplot as plt\n",
    "%matplotlib inline"
   ]
  },
  {
   "cell_type": "code",
   "execution_count": 43,
   "metadata": {},
   "outputs": [],
   "source": [
    "def preprocessing(words):\n",
    "    unwanted_chars = ['ß', 'à', 'ä', 'ç', 'è', 'é', 'ï', 'ñ', 'ó', 'ö', 'ü', 'ā']\n",
    "\n",
    "    def contains_unwanted_chars(word):\n",
    "        return any(char in unwanted_chars for char in word)\n",
    "\n",
    "    words = [haiku for haiku in words if not any(contains_unwanted_chars(word) for word in haiku)]\n",
    "    return words\n",
    "\n",
    "def load_data(path):\n",
    "    with open(path, 'r') as f:\n",
    "        words = f.read().splitlines()\n",
    "    words = preprocessing(words)\n",
    "    return words\n",
    "\n",
    "words = load_data('lines.txt')\n",
    "words = [wr.replace(\"/\", \"\").replace(\"$\", \"\") for wr in words]\n",
    "chars = sorted(list(set(''.join(words)))) #+ [\"<S>\", \"<M>\", \"<E>\"]\n",
    "stoi = {ch: i for i, ch in enumerate(chars)}\n",
    "itos = {i: ch for ch, i in stoi.items()}"
   ]
  },
  {
   "cell_type": "code",
   "execution_count": 44,
   "metadata": {},
   "outputs": [
    {
     "name": "stdout",
     "output_type": "stream",
     "text": [
      "torch.Size([637487, 10]) torch.Size([637487])\n",
      "torch.Size([79514, 10]) torch.Size([79514])\n",
      "torch.Size([79753, 10]) torch.Size([79753])\n"
     ]
    }
   ],
   "source": [
    "def build_dataset(words):\n",
    "    # make block size max length of a word\n",
    "    block_size = 10\n",
    "    X, Y = [], []\n",
    "    for w in words:\n",
    "        context = [3] * block_size\n",
    "        #print(w)\n",
    "        # w = w.split(\"  \")\n",
    "        # chs = [\"<S>\"] + list(w[0]) + [\"<M>\"] + list(w[1])+ [\"<M>\"] + list(w[2]) + [\"<E>\"]\n",
    "        for ch in w + \".\": #chs:\n",
    "            ix = stoi[ch]\n",
    "            X.append(context)\n",
    "            Y.append(ix)\n",
    "            #print(f\"'{''.join(itos[i] for i in context)}'\", '---->', itos[ix])\n",
    "\n",
    "            context = context[1:] + [ix]\n",
    "    \n",
    "    X, Y = torch.tensor(X), torch.tensor(Y)\n",
    "    print(X.shape, Y.shape)\n",
    "    return X, Y\n",
    "\n",
    "\n",
    "import random\n",
    "random.seed(43)\n",
    "\n",
    "n1 = int(0.8 * len(words))\n",
    "n2 = int(0.9 * len(words))\n",
    "\n",
    "Xtrain, Ytrain = build_dataset(words[:n1])\n",
    "Xdev, Ydev = build_dataset(words[n1:n2])\n",
    "Xtest, Ytest = build_dataset(words[n2:])"
   ]
  },
  {
   "cell_type": "code",
   "execution_count": 45,
   "metadata": {},
   "outputs": [],
   "source": [
    "g = torch.Generator().manual_seed(213139812739)"
   ]
  },
  {
   "cell_type": "code",
   "execution_count": 46,
   "metadata": {},
   "outputs": [],
   "source": [
    "from typing import List\n",
    "import numpy as np\n",
    "\n",
    "class Layer():\n",
    "    def __init__(self, fan_in, fan_out, kaiming=False, activation=F.tanh):\n",
    "        self.W = torch.randn((fan_in, fan_out), generator=g) * 5/3 / (fan_in ** 0.5)  if kaiming else torch.randn((fan_in, fan_out), generator=g)\n",
    "        self.b = torch.randn(fan_out, generator=g) * 0\n",
    "\n",
    "        self.params = [self.W, self.b]\n",
    "        self.activation_fn = activation\n",
    "\n",
    "        for param in self.params:\n",
    "            param.requires_grad = True\n",
    "    \n",
    "    def activation(self, x):\n",
    "        return self.activation_fn(x)\n",
    "        \n",
    "    def _f(self, x):\n",
    "        out = x @ self.W + self.b\n",
    "        return self.activation(out) if self.activation_fn else out\n",
    "    \n",
    "class BatchNorm():\n",
    "    def __init__(self, fan_in, eps):\n",
    "        self.bngain = torch.ones((1, fan_in))\n",
    "        self.bnbias = torch.zeros((1, fan_in))\n",
    "\n",
    "        self.bnmean_running = torch.zeros((1, fan_in))\n",
    "        self.bnstd_running = torch.ones((1, fan_in))\n",
    "\n",
    "        self.params = [self.bngain, self.bnbias]\n",
    "\n",
    "        self.eps = eps\n",
    "\n",
    "        for param in self.params:\n",
    "            param.requires_grad = True\n",
    "\n",
    "    def _f(self, x, train=True):\n",
    "        mean = x.mean(0, keepdim=True)\n",
    "        std = x.std(0, keepdim=True)\n",
    "\n",
    "        if train:\n",
    "            x = (x - mean) / (std + self.eps)\n",
    "            x = x * self.bngain + self.bnbias\n",
    "            with torch.no_grad():\n",
    "                self.bnmean_running = 0.999 * self.bnmean_running + 0.001 * mean\n",
    "                self.bnstd_running = 0.999 * self.bnstd_running + 0.001 * std\n",
    "        else:\n",
    "            x = (x - self.bnmean_running) / (self.bnstd_running + self.eps)\n",
    "            x = x * self.bngain + self.bnbias\n",
    "\n",
    "        return x\n",
    "\n",
    "class Sequential():\n",
    "    def __init__(self, layers: List[Layer]):\n",
    "        self.layers = layers\n",
    "        self.params = []\n",
    "        for layer in self.layers:\n",
    "            self.params.extend(layer.params)\n",
    "    \n",
    "    def forward(self, x, y, lr):\n",
    "        out = x\n",
    "        for layer in self.layers:\n",
    "            out = layer._f(out)\n",
    "        \n",
    "        loss = F.cross_entropy(out, y)\n",
    "\n",
    "        for p in self.params:\n",
    "            p.grad = None\n",
    "        \n",
    "        loss.backward()\n",
    "\n",
    "        for p in self.params:\n",
    "            p.data += -lr * p.grad\n",
    "\n",
    "        return loss\n",
    "\n",
    "    def predict(self, x):\n",
    "        with torch.no_grad():\n",
    "            out = x\n",
    "            for layer in self.layers:\n",
    "                if isinstance(layer, BatchNorm):\n",
    "                    out = layer._f(out, train=False)\n",
    "                else:\n",
    "                    out = layer._f(out)\n",
    "        return out\n",
    "    \n",
    "    def display_layer_sizes(self):\n",
    "        print(\"Layer Sizes (Top to Bottom):\")\n",
    "        for idx, layer in enumerate(self.layers):\n",
    "            if isinstance(layer, Layer):\n",
    "                print(f\"Layer {idx + 1}: Input Size = {layer.W.shape[0]}, Output Size = {layer.W.shape[1]}\")\n",
    "            elif isinstance(layer, BatchNorm):\n",
    "                print(f\"Layer {idx + 1}: BatchNorm with Input Size = {layer.bngain.shape[1]}\")\n",
    "            else:\n",
    "                print(f\"Layer {idx + 1}: Unknown Layer Type\")"
   ]
  },
  {
   "cell_type": "code",
   "execution_count": 50,
   "metadata": {},
   "outputs": [],
   "source": [
    "n_embd = 30\n",
    "block_size = 10\n",
    "neurons = [300, 200, 100]\n",
    "embeddings = torch.randn(len(chars), n_embd, generator=g)\n",
    "\n",
    "layers = [\n",
    "    Layer(n_embd * block_size, neurons[0], kaiming=True, activation=F.tanh), \n",
    "    BatchNorm(neurons[0], 1e-5),\n",
    "    Layer(neurons[0], neurons[1], kaiming=True, activation=F.tanh), \n",
    "    BatchNorm(neurons[1], 1e-5),\n",
    "    Layer(neurons[1], neurons[2], kaiming=True, activation=F.tanh), \n",
    "    BatchNorm(neurons[2], 1e-5),\n",
    "    Layer(neurons[2], len(chars), activation=None)\n",
    "]\n",
    "\n",
    "model = Sequential(layers)"
   ]
  },
  {
   "cell_type": "code",
   "execution_count": 51,
   "metadata": {},
   "outputs": [
    {
     "name": "stdout",
     "output_type": "stream",
     "text": [
      "Layer Sizes (Top to Bottom):\n",
      "Layer 1: Input Size = 300, Output Size = 300\n",
      "Layer 2: BatchNorm with Input Size = 300\n",
      "Layer 3: Input Size = 300, Output Size = 200\n",
      "Layer 4: BatchNorm with Input Size = 200\n",
      "Layer 5: Input Size = 200, Output Size = 100\n",
      "Layer 6: BatchNorm with Input Size = 100\n",
      "Layer 7: Input Size = 100, Output Size = 30\n"
     ]
    }
   ],
   "source": [
    "model.display_layer_sizes()"
   ]
  },
  {
   "cell_type": "code",
   "execution_count": 52,
   "metadata": {},
   "outputs": [
    {
     "name": "stdout",
     "output_type": "stream",
     "text": [
      "Total Parameters: 174830\n"
     ]
    }
   ],
   "source": [
    "# print total parameters\n",
    "total_params = sum(p.numel() for p in model.params)\n",
    "print(f\"Total Parameters: {total_params}\")"
   ]
  },
  {
   "cell_type": "code",
   "execution_count": 53,
   "metadata": {},
   "outputs": [
    {
     "name": "stdout",
     "output_type": "stream",
     "text": [
      "Epoch 1000/50000 Loss: 2.2989447116851807\n",
      "Epoch 2000/50000 Loss: 2.1676549911499023\n",
      "Epoch 3000/50000 Loss: 1.8860249519348145\n",
      "Epoch 4000/50000 Loss: 1.8800499439239502\n",
      "Epoch 5000/50000 Loss: 1.9711854457855225\n",
      "Epoch 6000/50000 Loss: 1.8722330331802368\n",
      "Epoch 7000/50000 Loss: 2.0368731021881104\n",
      "Epoch 8000/50000 Loss: 1.7613128423690796\n",
      "Epoch 9000/50000 Loss: 1.86977219581604\n",
      "Epoch 10000/50000 Loss: 1.8412165641784668\n",
      "Epoch 11000/50000 Loss: 1.8469802141189575\n",
      "Epoch 12000/50000 Loss: 1.854404330253601\n",
      "Epoch 13000/50000 Loss: 1.7185968160629272\n",
      "Epoch 14000/50000 Loss: 1.7873032093048096\n",
      "Epoch 15000/50000 Loss: 1.689336895942688\n",
      "Epoch 16000/50000 Loss: 1.4700777530670166\n",
      "Epoch 17000/50000 Loss: 1.7235692739486694\n",
      "Epoch 18000/50000 Loss: 1.694730281829834\n",
      "Epoch 19000/50000 Loss: 1.8041763305664062\n",
      "Epoch 20000/50000 Loss: 1.6823986768722534\n",
      "Epoch 21000/50000 Loss: 1.6815571784973145\n",
      "Epoch 22000/50000 Loss: 1.5012637376785278\n",
      "Epoch 23000/50000 Loss: 1.4369158744812012\n",
      "Epoch 24000/50000 Loss: 1.4943023920059204\n",
      "Epoch 25000/50000 Loss: 1.7569634914398193\n",
      "Epoch 26000/50000 Loss: 1.5369480848312378\n",
      "Epoch 27000/50000 Loss: 1.5797679424285889\n",
      "Epoch 28000/50000 Loss: 1.6164213418960571\n",
      "Epoch 29000/50000 Loss: 1.5242682695388794\n",
      "Epoch 30000/50000 Loss: 1.4923335313796997\n",
      "Epoch 31000/50000 Loss: 1.7487972974777222\n",
      "Epoch 32000/50000 Loss: 1.4942216873168945\n",
      "Epoch 33000/50000 Loss: 1.636406660079956\n",
      "Epoch 34000/50000 Loss: 1.5717096328735352\n",
      "Epoch 35000/50000 Loss: 1.4264665842056274\n",
      "Epoch 36000/50000 Loss: 1.580471396446228\n",
      "Epoch 37000/50000 Loss: 1.403604507446289\n",
      "Epoch 38000/50000 Loss: 1.520781397819519\n",
      "Epoch 39000/50000 Loss: 1.4657976627349854\n",
      "Epoch 40000/50000 Loss: 1.437386393547058\n",
      "Epoch 41000/50000 Loss: 1.6034902334213257\n",
      "Epoch 42000/50000 Loss: 1.4781032800674438\n",
      "Epoch 43000/50000 Loss: 1.4473633766174316\n",
      "Epoch 44000/50000 Loss: 1.311283826828003\n",
      "Epoch 45000/50000 Loss: 1.472886562347412\n",
      "Epoch 46000/50000 Loss: 1.403248906135559\n",
      "Epoch 47000/50000 Loss: 1.5563758611679077\n",
      "Epoch 48000/50000 Loss: 1.5740408897399902\n",
      "Epoch 49000/50000 Loss: 1.6313997507095337\n",
      "Epoch 50000/50000 Loss: 1.3512651920318604\n"
     ]
    }
   ],
   "source": [
    "def train_model(\n",
    "    model: Sequential, \n",
    "    num_epochs: int, \n",
    "    lr: float = 0.01, \n",
    "    verbose: bool = True,\n",
    "    batch_size: int = 128,\n",
    "    lr_slow_reduce: bool = False\n",
    ") -> List[float]:\n",
    "    losses = []\n",
    "\n",
    "    for epoch in range(num_epochs):\n",
    "        if lr_slow_reduce and num_epochs // 2 == epoch:\n",
    "            lr *= 1e-1\n",
    "        ix = torch.randint(0, Xtrain.shape[0], (batch_size,), generator=g)\n",
    "        Xb, Yb = Xtrain[ix], Ytrain[ix]\n",
    "        emb = embeddings[Xb]\n",
    "        emb = emb.view(emb.shape[0], -1)\n",
    "        loss = model.forward(emb, Yb, lr)\n",
    "        losses.append(loss.item())\n",
    "\n",
    "        if verbose and (epoch + 1) % 1000 == 0:\n",
    "            print(f\"Epoch {epoch + 1}/{num_epochs} Loss: {loss.item()}\")\n",
    "\n",
    "    return losses\n",
    "\n",
    "losses = train_model(model, 50000, lr=0.1, lr_slow_reduce=True)  "
   ]
  },
  {
   "cell_type": "code",
   "execution_count": 54,
   "metadata": {},
   "outputs": [
    {
     "data": {
      "text/plain": [
       "Text(0.5, 0, 'Epoch')"
      ]
     },
     "execution_count": 54,
     "metadata": {},
     "output_type": "execute_result"
    },
    {
     "data": {
      "image/png": "[encoded data removed]",
      "text/plain": [
       "<Figure size 640x480 with 1 Axes>"
      ]
     },
     "metadata": {},
     "output_type": "display_data"
    }
   ],
   "source": [
    "plt.plot(np.arange(len(losses)), losses)\n",
    "plt.ylabel(\"Loss\")\n",
    "plt.xlabel(\"Epoch\")"
   ]
  },
  {
   "cell_type": "code",
   "execution_count": 55,
   "metadata": {},
   "outputs": [],
   "source": [
    "@torch.no_grad()\n",
    "def split_loss(split):\n",
    "    x,y = {\n",
    "        'train': (Xtrain, Ytrain),\n",
    "        'dev': (Xdev, Ydev),\n",
    "        'test': (Xtest, Ytest)\n",
    "    }[split]\n",
    "    emb = embeddings[x]\n",
    "    emb = emb.view(emb.shape[0], -1)\n",
    "    out = model.predict(emb)   \n",
    "    loss = F.cross_entropy(out, y)\n",
    "\n",
    "    return loss.item()"
   ]
  },
  {
   "cell_type": "code",
   "execution_count": 56,
   "metadata": {},
   "outputs": [
    {
     "data": {
      "text/plain": [
       "(1.4757354259490967, 1.6017286777496338, 1.6243505477905273)"
      ]
     },
     "execution_count": 56,
     "metadata": {},
     "output_type": "execute_result"
    }
   ],
   "source": [
    "split_loss('train'), split_loss('dev'), split_loss('test')"
   ]
  },
  {
   "cell_type": "markdown",
   "metadata": {},
   "source": [
    "### Improvement!!\n",
    "\n",
    "### Pre weight init optimization -> (1.7559022903442383, 1.7703694105148315, 1.785829782485962)\n",
    "### Post weight init optimization -> (1.7148950099945068, 1.729537844657898, 1.7452518939971924)\n",
    "### Post Batch norm -> (1.77047860622406, 1.7761619091033936, 1.7911485433578491)\n",
    "### Multiple layers with batch norm -> (1.4757354259490967, 1.6017286777496338, 1.6243505477905273) - > BEST RESULT YET! (slight overfit but ok)\n",
    "\n",
    "\n",
    "#### Is this proof that batch norm sucks with lesser layers?"
   ]
  },
  {
   "cell_type": "code",
   "execution_count": 64,
   "metadata": {},
   "outputs": [
    {
     "name": "stdout",
     "output_type": "stream",
     "text": [
      "dream resty givens teent she lice unching rets usees mnots the open where or over that'd wind which heart poosped you left to have consure the earth now buth sud your from the most worth it unve i have understections shy\n",
      "starting all a palse behind swall hever still here of meing conityed my love moon\n",
      "moon out right up skin boing a tells is no last of life fehting at bring uman\n",
      "whispers glain\n",
      "ember of cointer we grass by being of the rain resodied them beseal has night\n",
      "mistakes out diagain beging all\n",
      "azure sun\n",
      "shadow to mater true him i am the earth\n",
      "crystalty uparaying in love\n",
      "velvether that may is upon a time whute feels\n",
      "rivering wind\n",
      "sunset paces the kills all on bed between the reach we unvoles\n",
      "autumn i lovefused\n",
      "silver greated off free yet i pae step tiles away screams calls\n",
      "echore i of in the your black viewh other sooken\n"
     ]
    },
    {
     "name": "stderr",
     "output_type": "stream",
     "text": [
      "/var/folders/np/gp8d_33j4jxd2pd79hf5w03r0000gn/T/ipykernel_24338/1895009486.py:39: UserWarning: std(): degrees of freedom is <= 0. Correction should be strictly less than the reduction factor (input numel divided by output numel). (Triggered internally at /Users/runner/work/pytorch/pytorch/pytorch/aten/src/ATen/native/ReduceOps.cpp:1823.)\n",
      "  std = x.std(0, keepdim=True)\n"
     ]
    }
   ],
   "source": [
    "def complete_word(model, start_chars, block_size=10):\n",
    "    context = [3] * (block_size - len(start_chars))\n",
    "    context.extend([stoi[ch] for ch in start_chars])\n",
    "    \n",
    "    res = list(start_chars)\n",
    "    \n",
    "    while True:\n",
    "        emb = embeddings[torch.tensor(context)]\n",
    "        emb = emb.view(1, -1)\n",
    "        out = model.predict(emb)\n",
    "        \n",
    "        out = F.softmax(out, dim=-1)\n",
    "        out = torch.multinomial(out, 1).item()\n",
    "        \n",
    "        if out == 3:\n",
    "            break\n",
    "            \n",
    "        res.append(itos[out])\n",
    "        context = context[1:] + [out]\n",
    "    \n",
    "    return ''.join(res)\n",
    "\n",
    "prompts = [\n",
    "    \"dream\",\n",
    "    \"star\",\n",
    "    \"moon\",\n",
    "    \"whisper\",\n",
    "    \"ember\",\n",
    "    \"mist\",\n",
    "    \"azure\",\n",
    "    \"shadow\",\n",
    "    \"crystal\",\n",
    "    \"velvet\",\n",
    "    \"river\",\n",
    "    \"sunset\",\n",
    "    \"autumn\",\n",
    "    \"silver\",\n",
    "    \"echo\"\n",
    "]\n",
    "\n",
    "for word in prompts:\n",
    "    res = complete_word(model, start_chars=word)\n",
    "    # make sure there is only one space between words\n",
    "    res = ' '.join([i.strip() for i in res.split()])\n",
    "    print(res)"
   ]
  },
  {
   "cell_type": "code",
   "execution_count": null,
   "metadata": {},
   "outputs": [],
   "source": []
  }
 ],
 "metadata": {
  "language_info": {
   "name": "python"
  }
 },
 "nbformat": 4,
 "nbformat_minor": 2
}
