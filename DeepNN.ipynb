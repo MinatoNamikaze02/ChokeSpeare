{
 "cells": [
  {
   "cell_type": "code",
   "execution_count": 205,
   "metadata": {},
   "outputs": [],
   "source": [
    "import torch\n",
    "import torch.nn.functional as F\n",
    "import matplotlib.pyplot as plt\n",
    "%matplotlib inline"
   ]
  },
  {
   "cell_type": "code",
   "execution_count": 206,
   "metadata": {},
   "outputs": [],
   "source": [
    "def preprocessing(words):\n",
    "    unwanted_chars = ['ß', 'à', 'ä', 'ç', 'è', 'é', 'ï', 'ñ', 'ó', 'ö', 'ü', 'ā']\n",
    "\n",
    "    def contains_unwanted_chars(word):\n",
    "        return any(char in unwanted_chars for char in word)\n",
    "\n",
    "    words = [haiku for haiku in words if not any(contains_unwanted_chars(word) for word in haiku)]\n",
    "    return words\n",
    "\n",
    "def load_data(path):\n",
    "    with open(path, 'r') as f:\n",
    "        words = f.read().splitlines()\n",
    "    words = preprocessing(words)\n",
    "    return words\n",
    "\n",
    "words = load_data('lines.txt')\n",
    "words = [wr.replace(\"/\", \"\").replace(\"$\", \"\") for wr in words]\n",
    "chars = sorted(list(set(''.join(words)))) #+ [\"<S>\", \"<M>\", \"<E>\"]\n",
    "stoi = {ch: i for i, ch in enumerate(chars)}\n",
    "itos = {i: ch for ch, i in stoi.items()}"
   ]
  },
  {
   "cell_type": "code",
   "execution_count": 207,
   "metadata": {},
   "outputs": [
    {
     "name": "stdout",
     "output_type": "stream",
     "text": [
      "torch.Size([637487, 10]) torch.Size([637487])\n",
      "torch.Size([79514, 10]) torch.Size([79514])\n",
      "torch.Size([79753, 10]) torch.Size([79753])\n"
     ]
    }
   ],
   "source": [
    "def build_dataset(words):\n",
    "    block_size = 10\n",
    "    X, Y = [], []\n",
    "    for w in words:\n",
    "        context = [3] * block_size\n",
    "        #print(w)\n",
    "        # w = w.split(\"  \")\n",
    "        # chs = [\"<S>\"] + list(w[0]) + [\"<M>\"] + list(w[1])+ [\"<M>\"] + list(w[2]) + [\"<E>\"]\n",
    "        for ch in w + \".\": #chs:\n",
    "            ix = stoi[ch]\n",
    "            X.append(context)\n",
    "            Y.append(ix)\n",
    "            #print(f\"'{''.join(itos[i] for i in context)}'\", '---->', itos[ix])\n",
    "\n",
    "            context = context[1:] + [ix]\n",
    "    \n",
    "    X, Y = torch.tensor(X), torch.tensor(Y)\n",
    "    print(X.shape, Y.shape)\n",
    "    return X, Y\n",
    "\n",
    "\n",
    "import random\n",
    "random.seed(43)\n",
    "\n",
    "n1 = int(0.8 * len(words))\n",
    "n2 = int(0.9 * len(words))\n",
    "\n",
    "Xtrain, Ytrain = build_dataset(words[:n1])\n",
    "Xdev, Ydev = build_dataset(words[n1:n2])\n",
    "Xtest, Ytest = build_dataset(words[n2:])"
   ]
  },
  {
   "cell_type": "code",
   "execution_count": 208,
   "metadata": {},
   "outputs": [],
   "source": [
    "g = torch.Generator().manual_seed(213139812739)"
   ]
  },
  {
   "cell_type": "code",
   "execution_count": 209,
   "metadata": {},
   "outputs": [],
   "source": [
    "from typing import List\n",
    "import numpy as np\n",
    "\n",
    "class Layer():\n",
    "    def __init__(self, fan_in, fan_out, kaiming=False, activation=F.tanh):\n",
    "        self.W = torch.randn((fan_in, fan_out), generator=g) * 5/3 / (fan_in ** 0.5)  if kaiming else torch.randn((fan_in, fan_out), generator=g)\n",
    "        self.b = torch.randn(fan_out, generator=g) * 0\n",
    "\n",
    "        self.params = [self.W, self.b]\n",
    "        self.activation_fn = activation\n",
    "\n",
    "        for param in self.params:\n",
    "            param.requires_grad = True\n",
    "    \n",
    "    def activation(self, x):\n",
    "        return self.activation_fn(x)\n",
    "        \n",
    "    def _f(self, x):\n",
    "        out = x @ self.W + self.b\n",
    "        return self.activation(out) if self.activation_fn else out\n",
    "    \n",
    "class BatchNorm():\n",
    "    def __init__(self, fan_in, eps):\n",
    "        self.bngain = torch.ones((1, fan_in))\n",
    "        self.bnbias = torch.zeros((1, fan_in))\n",
    "\n",
    "        self.bnmean_running = torch.zeros((1, fan_in))\n",
    "        self.bnstd_running = torch.ones((1, fan_in))\n",
    "\n",
    "        self.params = [self.bngain, self.bnbias]\n",
    "\n",
    "        self.eps = eps\n",
    "\n",
    "        for param in self.params:\n",
    "            param.requires_grad = True\n",
    "\n",
    "    def _f(self, x, train=True):\n",
    "        mean = x.mean(0, keepdim=True)\n",
    "        std = x.std(0, keepdim=True)\n",
    "\n",
    "        if train:\n",
    "            x = (x - mean) / (std + self.eps)\n",
    "            x = x * self.bngain + self.bnbias\n",
    "            with torch.no_grad():\n",
    "                self.bnmean_running = 0.999 * self.bnmean_running + 0.001 * mean\n",
    "                self.bnstd_running = 0.999 * self.bnstd_running + 0.001 * std\n",
    "        else:\n",
    "            x = (x - self.bnmean_running) / (self.bnstd_running + self.eps)\n",
    "            x = x * self.bngain + self.bnbias\n",
    "\n",
    "        return x\n",
    "\n",
    "class Sequential():\n",
    "    def __init__(self, layers: List[Layer]):\n",
    "        self.layers = layers\n",
    "        self.params = []\n",
    "        for layer in self.layers:\n",
    "            self.params.extend(layer.params)\n",
    "    \n",
    "    def forward(self, x, y, lr):\n",
    "        out = x\n",
    "        for layer in self.layers:\n",
    "            out = layer._f(out)\n",
    "        \n",
    "        loss = F.cross_entropy(out, y)\n",
    "\n",
    "        for p in self.params:\n",
    "            p.grad = None\n",
    "        \n",
    "        loss.backward()\n",
    "\n",
    "        for p in self.params:\n",
    "            p.data += -lr * p.grad\n",
    "\n",
    "        return loss\n",
    "\n",
    "    def predict(self, x):\n",
    "        with torch.no_grad():\n",
    "            out = x\n",
    "            for layer in self.layers:\n",
    "                if isinstance(layer, BatchNorm):\n",
    "                    out = layer._f(out, train=False)\n",
    "                else:\n",
    "                    out = layer._f(out)\n",
    "        return out\n",
    "    \n",
    "    def display_layer_sizes(self):\n",
    "        print(\"Layer Sizes (Top to Bottom):\")\n",
    "        for idx, layer in enumerate(self.layers):\n",
    "            if isinstance(layer, Layer):\n",
    "                print(f\"Layer {idx + 1}: Input Size = {layer.W.shape[0]}, Output Size = {layer.W.shape[1]}\")\n",
    "            elif isinstance(layer, BatchNorm):\n",
    "                print(f\"Layer {idx + 1}: BatchNorm with Input Size = {layer.bngain.shape[1]}\")\n",
    "            else:\n",
    "                print(f\"Layer {idx + 1}: Unknown Layer Type\")"
   ]
  },
  {
   "cell_type": "code",
   "execution_count": 211,
   "metadata": {},
   "outputs": [],
   "source": [
    "n_embd = 20\n",
    "block_size = 10\n",
    "neurons = [128, 64, 32]\n",
    "embeddings = torch.randn(len(chars), n_embd, generator=g)\n",
    "\n",
    "layers = [\n",
    "    Layer(n_embd * block_size, neurons[0], kaiming=True, activation=F.tanh), \n",
    "    BatchNorm(neurons[0], 1e-5),\n",
    "    Layer(neurons[0], neurons[1], kaiming=True, activation=F.tanh), \n",
    "    BatchNorm(neurons[1], 1e-5),\n",
    "    Layer(neurons[1], neurons[2], kaiming=True, activation=F.tanh), \n",
    "    BatchNorm(neurons[2], 1e-5),\n",
    "    Layer(neurons[2], len(chars), activation=None)\n",
    "]\n",
    "\n",
    "model = Sequential(layers)"
   ]
  },
  {
   "cell_type": "code",
   "execution_count": 212,
   "metadata": {},
   "outputs": [
    {
     "name": "stdout",
     "output_type": "stream",
     "text": [
      "Layer Sizes (Top to Bottom):\n",
      "Layer 1: Input Size = 200, Output Size = 128\n",
      "Layer 2: BatchNorm with Input Size = 128\n",
      "Layer 3: Input Size = 128, Output Size = 64\n",
      "Layer 4: BatchNorm with Input Size = 64\n",
      "Layer 5: Input Size = 64, Output Size = 32\n",
      "Layer 6: BatchNorm with Input Size = 32\n",
      "Layer 7: Input Size = 32, Output Size = 30\n"
     ]
    }
   ],
   "source": [
    "model.display_layer_sizes()"
   ]
  },
  {
   "cell_type": "code",
   "execution_count": 213,
   "metadata": {},
   "outputs": [
    {
     "name": "stdout",
     "output_type": "stream",
     "text": [
      "Epoch 1000/50000 Loss: 2.422591209411621\n",
      "Epoch 2000/50000 Loss: 2.2670445442199707\n",
      "Epoch 3000/50000 Loss: 2.176182508468628\n",
      "Epoch 4000/50000 Loss: 2.049243927001953\n",
      "Epoch 5000/50000 Loss: 2.118278980255127\n",
      "Epoch 6000/50000 Loss: 2.0675911903381348\n",
      "Epoch 7000/50000 Loss: 1.9457987546920776\n",
      "Epoch 8000/50000 Loss: 2.040745258331299\n",
      "Epoch 9000/50000 Loss: 1.7945162057876587\n",
      "Epoch 10000/50000 Loss: 2.057861089706421\n",
      "Epoch 11000/50000 Loss: 1.944896936416626\n",
      "Epoch 12000/50000 Loss: 1.7303568124771118\n",
      "Epoch 13000/50000 Loss: 1.8907662630081177\n",
      "Epoch 14000/50000 Loss: 1.7142219543457031\n",
      "Epoch 15000/50000 Loss: 1.821274995803833\n",
      "Epoch 16000/50000 Loss: 2.0262625217437744\n",
      "Epoch 17000/50000 Loss: 2.1310830116271973\n",
      "Epoch 18000/50000 Loss: 1.794228196144104\n",
      "Epoch 19000/50000 Loss: 1.8933732509613037\n",
      "Epoch 20000/50000 Loss: 1.7529749870300293\n",
      "Epoch 21000/50000 Loss: 1.832837462425232\n",
      "Epoch 22000/50000 Loss: 1.6195073127746582\n",
      "Epoch 23000/50000 Loss: 1.8125598430633545\n",
      "Epoch 24000/50000 Loss: 1.9074491262435913\n",
      "Epoch 25000/50000 Loss: 1.7154276371002197\n",
      "Epoch 26000/50000 Loss: 1.8537960052490234\n",
      "Epoch 27000/50000 Loss: 1.861446738243103\n",
      "Epoch 28000/50000 Loss: 1.7866061925888062\n",
      "Epoch 29000/50000 Loss: 1.709238052368164\n",
      "Epoch 30000/50000 Loss: 1.5260241031646729\n",
      "Epoch 31000/50000 Loss: 1.6775906085968018\n",
      "Epoch 32000/50000 Loss: 1.6843847036361694\n",
      "Epoch 33000/50000 Loss: 1.839383840560913\n",
      "Epoch 34000/50000 Loss: 1.8710156679153442\n",
      "Epoch 35000/50000 Loss: 1.6352072954177856\n",
      "Epoch 36000/50000 Loss: 1.755927324295044\n",
      "Epoch 37000/50000 Loss: 1.7640842199325562\n",
      "Epoch 38000/50000 Loss: 1.8411246538162231\n",
      "Epoch 39000/50000 Loss: 1.6863596439361572\n",
      "Epoch 40000/50000 Loss: 1.5937631130218506\n",
      "Epoch 41000/50000 Loss: 1.8122121095657349\n",
      "Epoch 42000/50000 Loss: 1.700931191444397\n",
      "Epoch 43000/50000 Loss: 1.6227220296859741\n",
      "Epoch 44000/50000 Loss: 1.7627220153808594\n",
      "Epoch 45000/50000 Loss: 1.8525924682617188\n",
      "Epoch 46000/50000 Loss: 1.7013815641403198\n",
      "Epoch 47000/50000 Loss: 1.616591453552246\n",
      "Epoch 48000/50000 Loss: 1.7297401428222656\n",
      "Epoch 49000/50000 Loss: 1.666062355041504\n",
      "Epoch 50000/50000 Loss: 1.583176851272583\n"
     ]
    }
   ],
   "source": [
    "def train_model(\n",
    "    model: Sequential, \n",
    "    num_epochs: int, \n",
    "    lr: float = 0.01, \n",
    "    verbose: bool = True,\n",
    "    batch_size: int = 128,\n",
    "    lr_slow_reduce: bool = False\n",
    ") -> List[float]:\n",
    "    losses = []\n",
    "\n",
    "    for epoch in range(num_epochs):\n",
    "        if lr_slow_reduce and num_epochs // 2 == epoch:\n",
    "            lr *= 1e-1\n",
    "        ix = torch.randint(0, Xtrain.shape[0], (batch_size,), generator=g)\n",
    "        Xb, Yb = Xtrain[ix], Ytrain[ix]\n",
    "        emb = embeddings[Xb]\n",
    "        emb = emb.view(emb.shape[0], -1)\n",
    "        loss = model.forward(emb, Yb, lr)\n",
    "        losses.append(loss.item())\n",
    "\n",
    "        if verbose and (epoch + 1) % 1000 == 0:\n",
    "            print(f\"Epoch {epoch + 1}/{num_epochs} Loss: {loss.item()}\")\n",
    "\n",
    "    return losses\n",
    "\n",
    "losses = train_model(model, 50000, lr=0.1, lr_slow_reduce=True)  "
   ]
  },
  {
   "cell_type": "code",
   "execution_count": 214,
   "metadata": {},
   "outputs": [
    {
     "data": {
      "text/plain": [
       "Text(0.5, 0, 'Epoch')"
      ]
     },
     "execution_count": 214,
     "metadata": {},
     "output_type": "execute_result"
    },
    {
     "data": {
      "image/png": "[encoded data removed]",
      "text/plain": [
       "<Figure size 640x480 with 1 Axes>"
      ]
     },
     "metadata": {},
     "output_type": "display_data"
    }
   ],
   "source": [
    "plt.plot(np.arange(len(losses)), losses)\n",
    "plt.ylabel(\"Loss\")\n",
    "plt.xlabel(\"Epoch\")"
   ]
  },
  {
   "cell_type": "code",
   "execution_count": 215,
   "metadata": {},
   "outputs": [],
   "source": [
    "@torch.no_grad()\n",
    "def split_loss(split):\n",
    "    x,y = {\n",
    "        'train': (Xtrain, Ytrain),\n",
    "        'dev': (Xdev, Ydev),\n",
    "        'test': (Xtest, Ytest)\n",
    "    }[split]\n",
    "    emb = embeddings[x]\n",
    "    emb = emb.view(emb.shape[0], -1)\n",
    "    out = model.predict(emb)   \n",
    "    loss = F.cross_entropy(out, y)\n",
    "\n",
    "    return loss.item()"
   ]
  },
  {
   "cell_type": "code",
   "execution_count": 216,
   "metadata": {},
   "outputs": [
    {
     "data": {
      "text/plain": [
       "(1.6678565740585327, 1.7043620347976685, 1.721247911453247)"
      ]
     },
     "execution_count": 216,
     "metadata": {},
     "output_type": "execute_result"
    }
   ],
   "source": [
    "split_loss('train'), split_loss('dev'), split_loss('test')"
   ]
  },
  {
   "cell_type": "markdown",
   "metadata": {},
   "source": [
    "### Improvement!!\n",
    "\n",
    "### Pre weight init optimization -> (1.7559022903442383, 1.7703694105148315, 1.785829782485962)\n",
    "### Post weight init optimization -> (1.7148950099945068, 1.729537844657898, 1.7452518939971924)\n",
    "### Post Batch norm -> (1.77047860622406, 1.7761619091033936, 1.7911485433578491)\n",
    "### Multiple layers with batch norm -> (1.6678565740585327, 1.7043620347976685, 1.721247911453247) - > BEST RESULT YET!\n",
    "\n",
    "\n",
    "#### Is this proof that batch norm sucks with lesser layers?"
   ]
  },
  {
   "cell_type": "code",
   "execution_count": 227,
   "metadata": {},
   "outputs": [
    {
     "name": "stdout",
     "output_type": "stream",
     "text": [
      "dreams my below roting show golding as over theavy the wind just on black with the sured was in you harm wame serplas \n",
      "stars is was for dill ball somethtippart  bavus day  years \n",
      "moon it \n",
      "whisper of somer return \n",
      "embers dark like for getbreaded \n",
      "mist forgsenbling detil will the call west here une in a dog my prote like  when is it to hard beauty \n",
      "azure of your rose twill do a gleps the rice this world i prows sharchick love i confight \n",
      "shadow look heruless her  an smile rewell do gives \n",
      "crystal \n",
      "velvet toger guing buant all touch pill all i reedlesidenfing to eyervess cait scares \n",
      "river will plomes \n",
      "sunset tarkens agargnkes soghat and heart yeg i wants forever at for maks face i still my rockit \n",
      "autumns noinallect my moth wish irabin uwh deets when i culrow i'd you oll led bag through to flor a stay on the lepity fafts are if beeinning pather devit bessed  i will wanches me worls happiness beese \n",
      "silver it on my luckies apy little life the buened he place i'm the in need kindin \n",
      "echols i chane remo natdott and you ever are loves \n"
     ]
    },
    {
     "name": "stderr",
     "output_type": "stream",
     "text": [
      "/var/folders/np/gp8d_33j4jxd2pd79hf5w03r0000gn/T/ipykernel_7467/1895009486.py:39: UserWarning: std(): degrees of freedom is <= 0. Correction should be strictly less than the reduction factor (input numel divided by output numel). (Triggered internally at /Users/runner/work/pytorch/pytorch/pytorch/aten/src/ATen/native/ReduceOps.cpp:1823.)\n",
      "  std = x.std(0, keepdim=True)\n"
     ]
    }
   ],
   "source": [
    "def complete_word(model, start_chars, block_size=10):\n",
    "    context = [10] * (block_size - len(start_chars))\n",
    "    context.extend([stoi[ch] for ch in start_chars])\n",
    "    \n",
    "    res = list(start_chars)\n",
    "    \n",
    "    while True:\n",
    "        emb = embeddings[torch.tensor(context)]\n",
    "        emb = emb.view(1, -1)\n",
    "        out = model.predict(emb)\n",
    "        \n",
    "        out = F.softmax(out, dim=-1)\n",
    "        out = torch.multinomial(out, 1).item()\n",
    "        \n",
    "        if out == 3:\n",
    "            break\n",
    "            \n",
    "        res.append(itos[out])\n",
    "        context = context[1:] + [out]\n",
    "    \n",
    "    return ''.join(res)\n",
    "\n",
    "prompts = [\n",
    "    \"dream\",\n",
    "    \"star\",\n",
    "    \"moon\",\n",
    "    \"whisper\",\n",
    "    \"ember\",\n",
    "    \"mist\",\n",
    "    \"azure\",\n",
    "    \"shadow\",\n",
    "    \"crystal\",\n",
    "    \"velvet\",\n",
    "    \"river\",\n",
    "    \"sunset\",\n",
    "    \"autumn\",\n",
    "    \"silver\",\n",
    "    \"echo\"\n",
    "]\n",
    "\n",
    "for word in prompts:\n",
    "    print(f\"{complete_word(model, word).replace('  ', ' ').replace('   ', ' ')}\")"
   ]
  },
  {
   "cell_type": "code",
   "execution_count": null,
   "metadata": {},
   "outputs": [],
   "source": []
  }
 ],
 "metadata": {
  "language_info": {
   "name": "python"
  }
 },
 "nbformat": 4,
 "nbformat_minor": 2
}
