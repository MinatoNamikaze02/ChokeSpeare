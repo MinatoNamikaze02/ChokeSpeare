{
 "cells": [
  {
   "cell_type": "code",
   "execution_count": 187,
   "metadata": {},
   "outputs": [],
   "source": [
    "import torch\n",
    "import torch.nn.functional as F\n",
    "import matplotlib.pyplot as plt\n",
    "%matplotlib inline"
   ]
  },
  {
   "cell_type": "code",
   "execution_count": 188,
   "metadata": {},
   "outputs": [],
   "source": [
    "def preprocessing(words):\n",
    "    unwanted_chars = ['ß', 'à', 'ä', 'ç', 'è', 'é', 'ï', 'ñ', 'ó', 'ö', 'ü', 'ā']\n",
    "\n",
    "    def contains_unwanted_chars(word):\n",
    "        return any(char in unwanted_chars for char in word)\n",
    "\n",
    "    words = [haiku for haiku in words if not any(contains_unwanted_chars(word) for word in haiku)]\n",
    "    return words\n",
    "\n",
    "def load_data(path):\n",
    "    with open(path, 'r') as f:\n",
    "        words = f.read().splitlines()\n",
    "    words = preprocessing(words)\n",
    "    return words\n",
    "\n",
    "words = load_data('lines.txt')\n",
    "words = [wr.replace(\"/\", \"\").replace(\"$\", \"\") for wr in words]\n",
    "chars = sorted(list(set(''.join(words)))) #+ [\"<S>\", \"<M>\", \"<E>\"]\n",
    "stoi = {ch: i for i, ch in enumerate(chars)}\n",
    "itos = {i: ch for ch, i in stoi.items()}"
   ]
  },
  {
   "cell_type": "code",
   "execution_count": 190,
   "metadata": {},
   "outputs": [
    {
     "name": "stdout",
     "output_type": "stream",
     "text": [
      "torch.Size([637487, 3]) torch.Size([637487])\n",
      "torch.Size([79514, 3]) torch.Size([79514])\n",
      "torch.Size([79753, 3]) torch.Size([79753])\n"
     ]
    }
   ],
   "source": [
    "def build_dataset(words):\n",
    "    block_size = 3\n",
    "    X, Y = [], []\n",
    "    for w in words:\n",
    "        context = [3] * block_size\n",
    "        #print(w)\n",
    "        # w = w.split(\"  \")\n",
    "        # chs = [\"<S>\"] + list(w[0]) + [\"<M>\"] + list(w[1])+ [\"<M>\"] + list(w[2]) + [\"<E>\"]\n",
    "        for ch in w + \".\": #chs:\n",
    "            ix = stoi[ch]\n",
    "            X.append(context)\n",
    "            Y.append(ix)\n",
    "            #print(f\"'{''.join(itos[i] for i in context)}'\", '---->', itos[ix])\n",
    "\n",
    "            context = context[1:] + [ix]\n",
    "    \n",
    "    X, Y = torch.tensor(X), torch.tensor(Y)\n",
    "    print(X.shape, Y.shape)\n",
    "    return X, Y\n",
    "\n",
    "\n",
    "import random\n",
    "random.seed(43)\n",
    "\n",
    "n1 = int(0.8 * len(words))\n",
    "n2 = int(0.9 * len(words))\n",
    "\n",
    "Xtrain, Ytrain = build_dataset(words[:n1])\n",
    "Xdev, Ydev = build_dataset(words[n1:n2])\n",
    "Xtest, Ytest = build_dataset(words[n2:])"
   ]
  },
  {
   "cell_type": "code",
   "execution_count": 191,
   "metadata": {},
   "outputs": [],
   "source": [
    "g = torch.Generator().manual_seed(213139812739)"
   ]
  },
  {
   "cell_type": "code",
   "execution_count": 192,
   "metadata": {},
   "outputs": [],
   "source": [
    "from typing import List\n",
    "import numpy as np\n",
    "\n",
    "class Layer():\n",
    "    def __init__(self, fan_in, fan_out, kaiming=False, activation=F.tanh):\n",
    "        self.W = torch.randn((fan_in, fan_out), generator=g) * 5/3 / (fan_in ** 0.5)  if kaiming else torch.randn((fan_in, fan_out), generator=g)\n",
    "        self.b = torch.randn(fan_out, generator=g) * 0\n",
    "\n",
    "        self.params = [self.W, self.b]\n",
    "        self.activation_fn = activation\n",
    "\n",
    "        for param in self.params:\n",
    "            param.requires_grad = True\n",
    "    \n",
    "    def activation(self, x):\n",
    "        return self.activation_fn(x)\n",
    "        \n",
    "    def _f(self, x):\n",
    "        out = x @ self.W + self.b\n",
    "        return self.activation(out) if self.activation_fn else out\n",
    "    \n",
    "class BatchNorm():\n",
    "    def __init__(self, fan_in, eps):\n",
    "        self.bngain = torch.ones((1, fan_in))\n",
    "        self.bnbias = torch.zeros((1, fan_in))\n",
    "\n",
    "        self.bnmean_running = torch.zeros((1, fan_in))\n",
    "        self.bnstd_running = torch.ones((1, fan_in))\n",
    "\n",
    "        self.params = [self.bngain, self.bnbias]\n",
    "\n",
    "        self.eps = eps\n",
    "\n",
    "        for param in self.params:\n",
    "            param.requires_grad = True\n",
    "\n",
    "    def _f(self, x, train=True):\n",
    "        mean = x.mean(0, keepdim=True)\n",
    "        std = x.std(0, keepdim=True)\n",
    "\n",
    "        if train:\n",
    "            x = (x - mean) / (std + self.eps)\n",
    "            x = x * self.bngain + self.bnbias\n",
    "            with torch.no_grad():\n",
    "                self.bnmean_running = 0.999 * self.bnmean_running + 0.001 * mean\n",
    "                self.bnstd_running = 0.999 * self.bnstd_running + 0.001 * std\n",
    "        else:\n",
    "            x = (x - self.bnmean_running) / (self.bnstd_running + self.eps)\n",
    "            x = x * self.bngain + self.bnbias\n",
    "\n",
    "        return x\n",
    "\n",
    "class Sequential():\n",
    "    def __init__(self, layers: List[Layer]):\n",
    "        self.layers = layers\n",
    "        self.params = []\n",
    "        for layer in self.layers:\n",
    "            self.params.extend(layer.params)\n",
    "    \n",
    "    def forward(self, x, y, lr):\n",
    "        out = x\n",
    "        for layer in self.layers:\n",
    "            out = layer._f(out)\n",
    "        \n",
    "        loss = F.cross_entropy(out, y)\n",
    "\n",
    "        for p in self.params:\n",
    "            p.grad = None\n",
    "        \n",
    "        loss.backward()\n",
    "\n",
    "        for p in self.params:\n",
    "            p.data += -lr * p.grad\n",
    "\n",
    "        return loss\n",
    "\n",
    "    def predict(self, x):\n",
    "        with torch.no_grad():\n",
    "            out = x\n",
    "            for layer in self.layers:\n",
    "                if isinstance(layer, BatchNorm):\n",
    "                    out = layer._f(out, train=False)\n",
    "                else:\n",
    "                    out = layer._f(out)\n",
    "        return out\n",
    "    \n",
    "    def display_layer_sizes(self):\n",
    "        print(\"Layer Sizes (Top to Bottom):\")\n",
    "        for idx, layer in enumerate(self.layers):\n",
    "            if isinstance(layer, Layer):\n",
    "                print(f\"Layer {idx + 1}: Input Size = {layer.W.shape[0]}, Output Size = {layer.W.shape[1]}\")\n",
    "            elif isinstance(layer, BatchNorm):\n",
    "                print(f\"Layer {idx + 1}: BatchNorm with Input Size = {layer.bngain.shape[1]}\")\n",
    "            else:\n",
    "                print(f\"Layer {idx + 1}: Unknown Layer Type\")"
   ]
  },
  {
   "cell_type": "code",
   "execution_count": 193,
   "metadata": {},
   "outputs": [],
   "source": [
    "n_embd = 10\n",
    "block_size = 3\n",
    "neurons = [128, 64, 32]\n",
    "embeddings = torch.randn(len(chars), n_embd, generator=g)\n",
    "\n",
    "layers = [\n",
    "    Layer(n_embd * block_size, neurons[0], kaiming=True, activation=F.tanh), \n",
    "    BatchNorm(neurons[0], 1e-5),\n",
    "    Layer(neurons[0], neurons[1], kaiming=True, activation=F.tanh), \n",
    "    BatchNorm(neurons[1], 1e-5),\n",
    "    Layer(neurons[1], neurons[2], kaiming=True, activation=F.tanh), \n",
    "    BatchNorm(neurons[2], 1e-5),\n",
    "    Layer(neurons[2], len(chars), activation=None)\n",
    "]\n",
    "\n",
    "model = Sequential(layers)"
   ]
  },
  {
   "cell_type": "code",
   "execution_count": 194,
   "metadata": {},
   "outputs": [
    {
     "name": "stdout",
     "output_type": "stream",
     "text": [
      "Layer Sizes (Top to Bottom):\n",
      "Layer 1: Input Size = 30, Output Size = 128\n",
      "Layer 2: BatchNorm with Input Size = 128\n",
      "Layer 3: Input Size = 128, Output Size = 64\n",
      "Layer 4: BatchNorm with Input Size = 64\n",
      "Layer 5: Input Size = 64, Output Size = 32\n",
      "Layer 6: BatchNorm with Input Size = 32\n",
      "Layer 7: Input Size = 32, Output Size = 30\n"
     ]
    }
   ],
   "source": [
    "model.display_layer_sizes()"
   ]
  },
  {
   "cell_type": "code",
   "execution_count": 195,
   "metadata": {},
   "outputs": [
    {
     "name": "stdout",
     "output_type": "stream",
     "text": [
      "Epoch 1000/50000 Loss: 2.0362493991851807\n",
      "Epoch 2000/50000 Loss: 2.1796653270721436\n",
      "Epoch 3000/50000 Loss: 1.9617687463760376\n",
      "Epoch 4000/50000 Loss: 2.0681209564208984\n",
      "Epoch 5000/50000 Loss: 1.8228273391723633\n",
      "Epoch 6000/50000 Loss: 1.842728614807129\n",
      "Epoch 7000/50000 Loss: 1.8294458389282227\n",
      "Epoch 8000/50000 Loss: 1.7653332948684692\n",
      "Epoch 9000/50000 Loss: 1.8161022663116455\n",
      "Epoch 10000/50000 Loss: 1.9704763889312744\n",
      "Epoch 11000/50000 Loss: 1.7892134189605713\n",
      "Epoch 12000/50000 Loss: 1.9734828472137451\n",
      "Epoch 13000/50000 Loss: 1.8393536806106567\n",
      "Epoch 14000/50000 Loss: 2.032301187515259\n",
      "Epoch 15000/50000 Loss: 1.814119815826416\n",
      "Epoch 16000/50000 Loss: 1.7743594646453857\n",
      "Epoch 17000/50000 Loss: 1.8810372352600098\n",
      "Epoch 18000/50000 Loss: 1.8200656175613403\n",
      "Epoch 19000/50000 Loss: 1.748762845993042\n",
      "Epoch 20000/50000 Loss: 2.2886340618133545\n",
      "Epoch 21000/50000 Loss: 1.86447012424469\n",
      "Epoch 22000/50000 Loss: 1.8632314205169678\n",
      "Epoch 23000/50000 Loss: 1.7213225364685059\n",
      "Epoch 24000/50000 Loss: 1.8322654962539673\n",
      "Epoch 25000/50000 Loss: 1.8664900064468384\n",
      "Epoch 26000/50000 Loss: 1.890839695930481\n",
      "Epoch 27000/50000 Loss: 1.8080912828445435\n",
      "Epoch 28000/50000 Loss: 1.8405725955963135\n",
      "Epoch 29000/50000 Loss: 1.8521625995635986\n",
      "Epoch 30000/50000 Loss: 1.59403395652771\n",
      "Epoch 31000/50000 Loss: 1.9389781951904297\n",
      "Epoch 32000/50000 Loss: 1.7975070476531982\n",
      "Epoch 33000/50000 Loss: 1.8194148540496826\n",
      "Epoch 34000/50000 Loss: 1.773533821105957\n",
      "Epoch 35000/50000 Loss: 1.7228398323059082\n",
      "Epoch 36000/50000 Loss: 1.732703447341919\n",
      "Epoch 37000/50000 Loss: 1.7629069089889526\n",
      "Epoch 38000/50000 Loss: 1.6117252111434937\n",
      "Epoch 39000/50000 Loss: 1.9443546533584595\n",
      "Epoch 40000/50000 Loss: 1.7854104042053223\n",
      "Epoch 41000/50000 Loss: 1.7335405349731445\n",
      "Epoch 42000/50000 Loss: 1.8009692430496216\n",
      "Epoch 43000/50000 Loss: 1.8063557147979736\n",
      "Epoch 44000/50000 Loss: 1.7443159818649292\n",
      "Epoch 45000/50000 Loss: 1.8327536582946777\n",
      "Epoch 46000/50000 Loss: 1.8624329566955566\n",
      "Epoch 47000/50000 Loss: 1.8071422576904297\n",
      "Epoch 48000/50000 Loss: 1.977118730545044\n",
      "Epoch 49000/50000 Loss: 1.7972009181976318\n",
      "Epoch 50000/50000 Loss: 1.681277871131897\n"
     ]
    }
   ],
   "source": [
    "def train_model(\n",
    "    model: Sequential, \n",
    "    num_epochs: int, \n",
    "    lr: float = 0.01, \n",
    "    verbose: bool = True,\n",
    "    batch_size: int = 128,\n",
    "    lr_slow_reduce: bool = False\n",
    ") -> List[float]:\n",
    "    losses = []\n",
    "\n",
    "    for epoch in range(num_epochs):\n",
    "        if lr_slow_reduce and num_epochs // 2 == epoch:\n",
    "            lr *= 1e-1\n",
    "        ix = torch.randint(0, Xtrain.shape[0], (batch_size,), generator=g)\n",
    "        Xb, Yb = Xtrain[ix], Ytrain[ix]\n",
    "        emb = embeddings[Xb]\n",
    "        emb = emb.view(emb.shape[0], -1)\n",
    "        loss = model.forward(emb, Yb, lr)\n",
    "        losses.append(loss.item())\n",
    "\n",
    "        if verbose and (epoch + 1) % 1000 == 0:\n",
    "            print(f\"Epoch {epoch + 1}/{num_epochs} Loss: {loss.item()}\")\n",
    "\n",
    "    return losses\n",
    "\n",
    "losses = train_model(model, 50000, lr=0.1, lr_slow_reduce=True)  "
   ]
  },
  {
   "cell_type": "code",
   "execution_count": 196,
   "metadata": {},
   "outputs": [
    {
     "data": {
      "text/plain": [
       "Text(0.5, 0, 'Epoch')"
      ]
     },
     "execution_count": 196,
     "metadata": {},
     "output_type": "execute_result"
    },
    {
     "data": {
      "image/png": "[encoded data removed]",
      "text/plain": [
       "<Figure size 640x480 with 1 Axes>"
      ]
     },
     "metadata": {},
     "output_type": "display_data"
    }
   ],
   "source": [
    "plt.plot(np.arange(len(losses)), losses)\n",
    "plt.ylabel(\"Loss\")\n",
    "plt.xlabel(\"Epoch\")"
   ]
  },
  {
   "cell_type": "code",
   "execution_count": 198,
   "metadata": {},
   "outputs": [],
   "source": [
    "@torch.no_grad()\n",
    "def split_loss(split):\n",
    "    x,y = {\n",
    "        'train': (Xtrain, Ytrain),\n",
    "        'dev': (Xdev, Ydev),\n",
    "        'test': (Xtest, Ytest)\n",
    "    }[split]\n",
    "    emb = embeddings[x]\n",
    "    emb = emb.view(emb.shape[0], -1)\n",
    "    out = model.predict(emb)   \n",
    "    loss = F.cross_entropy(out, y)\n",
    "\n",
    "    return loss.item()"
   ]
  },
  {
   "cell_type": "code",
   "execution_count": 199,
   "metadata": {},
   "outputs": [
    {
     "data": {
      "text/plain": [
       "(1.767958641052246, 1.774521827697754, 1.7910852432250977)"
      ]
     },
     "execution_count": 199,
     "metadata": {},
     "output_type": "execute_result"
    }
   ],
   "source": [
    "split_loss('train'), split_loss('dev'), split_loss('test')"
   ]
  },
  {
   "cell_type": "markdown",
   "metadata": {},
   "source": [
    "### Improvement!!\n",
    "\n",
    "### Pre weight init optimization -> (1.7559022903442383, 1.7703694105148315, 1.785829782485962)\n",
    "### Post weight init optimization -> (1.7148950099945068, 1.729537844657898, 1.7452518939971924)\n",
    "### Post Batch norm -> (1.77047860622406, 1.7761619091033936, 1.7911485433578491)\n",
    "### Multiple layers with batch norm -> (1.703819990158081, 1.7108787298202515, 17226266860961914) - > BEST RESULT YET!\n",
    "\n",
    "\n",
    "#### Is this proof that batch norm sucks with lesser layers?"
   ]
  },
  {
   "cell_type": "code",
   "execution_count": 204,
   "metadata": {},
   "outputs": [
    {
     "name": "stdout",
     "output_type": "stream",
     "text": [
      "i just yark stor rike \n",
      "i girled you star sughly  joy  a spater the will yountinus limpremerubender thicert beuling \n",
      "you ander sproilenot race our brain for aled \n",
      "i oting will retter \n",
      "did your refles mentle  you dead \n",
      "caugh  it's ces \n",
      "rack on thesercomy lia and two fellalife grain prine hunge behaos of taste the some lastweek \n",
      "potions ignortinging my words the grow i littlessand an you thour words court drura goodles advhs \n",
      "i don't so \n",
      "what having left the colold memate a sater or me hopespiries ome \n",
      "plled so a takener tearting all of gurklobecake midcrill ring loqke severy nearders all on  cold bird my hear sunnalisplitity cond dolen \n",
      "i want \n",
      "truth orcaled is shodce the to shink palls some throot res botter ange \n",
      "a we them check aretfnilly a spristerian \n",
      "eyese we beaches just gent sunser  i deatouaint just apped me cound the sated \n",
      "i reterself \n",
      "onigitreath your summent me lith \n",
      "it shim the pose \n",
      "ember you glarach ofn a tr hade you dows tlate a slowinto haiku wolly the skies it a for \n",
      "thin \n"
     ]
    },
    {
     "name": "stderr",
     "output_type": "stream",
     "text": [
      "/var/folders/np/gp8d_33j4jxd2pd79hf5w03r0000gn/T/ipykernel_7467/1895009486.py:39: UserWarning: std(): degrees of freedom is <= 0. Correction should be strictly less than the reduction factor (input numel divided by output numel). (Triggered internally at /Users/runner/work/pytorch/pytorch/pytorch/aten/src/ATen/native/ReduceOps.cpp:1823.)\n",
      "  std = x.std(0, keepdim=True)\n"
     ]
    }
   ],
   "source": [
    "block_size = 3\n",
    "for _ in range(20):\n",
    "    res = []\n",
    "\n",
    "    context = [3] * block_size\n",
    "    while True:\n",
    "        emb = embeddings[torch.tensor(context)]\n",
    "        emb = emb.view(1, -1)\n",
    "        out = model.predict(emb)\n",
    "\n",
    "        out = F.softmax(out, dim=-1)\n",
    "        out = torch.multinomial(out, 1).item()\n",
    "\n",
    "        if out == 3:\n",
    "            break\n",
    "\n",
    "        res.append(out)\n",
    "        context = context[1:] + [out]\n",
    "        \n",
    "    print(''.join(itos[i] for i in res).replace(\"  \", \" \").replace(\"   \", \" \"))"
   ]
  },
  {
   "cell_type": "code",
   "execution_count": null,
   "metadata": {},
   "outputs": [],
   "source": []
  }
 ],
 "metadata": {
  "language_info": {
   "name": "python"
  }
 },
 "nbformat": 4,
 "nbformat_minor": 2
}
