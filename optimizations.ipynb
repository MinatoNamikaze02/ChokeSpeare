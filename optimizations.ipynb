{
 "cells": [
  {
   "cell_type": "markdown",
   "metadata": {},
   "source": [
    "## Improving the old MLP with good weight init"
   ]
  },
  {
   "cell_type": "code",
   "execution_count": 52,
   "metadata": {},
   "outputs": [],
   "source": [
    "import torch\n",
    "import torch.nn.functional as F\n",
    "import matplotlib.pyplot as plt\n",
    "%matplotlib inline"
   ]
  },
  {
   "cell_type": "code",
   "execution_count": 53,
   "metadata": {},
   "outputs": [
    {
     "data": {
      "text/plain": [
       "[\"delicate savage  you'll never hold the cinder  but still you will burn \",\n",
       " 'our destination  the skyline of this city  shining horizon ',\n",
       " 'a splash and a cry   words pulled from the riverside   dried in the hot sun ',\n",
       " 'hurt but poised for war  sturdy in crestfallen slumps  warrior spirit ',\n",
       " 'steamy mist rising  rocks receiving downward crash  as the jungle weeps ',\n",
       " 'a sultry wine night   spent with a beautiful girl   brash kiss ends smooth jazz ',\n",
       " 'you were broken glass  but i touched you even though  i knew it would hurt ',\n",
       " 'say not that i have  fled from the world but that the  world has fled from me ',\n",
       " 'eyes dance with firelight  the moon and i are lovers  the spiteful sun dies ',\n",
       " 'i woke up today  i wanted to write a song  i wrote a haiku ']"
      ]
     },
     "execution_count": 53,
     "metadata": {},
     "output_type": "execute_result"
    }
   ],
   "source": [
    "words = open(\"lines.txt\", 'r').read().splitlines()\n",
    "words = [wr.replace(\"/\", \"\").replace(\"$\", \"\") for wr in words]\n",
    "words[:10]"
   ]
  },
  {
   "cell_type": "code",
   "execution_count": 54,
   "metadata": {},
   "outputs": [
    {
     "data": {
      "text/plain": [
       "11269"
      ]
     },
     "execution_count": 54,
     "metadata": {},
     "output_type": "execute_result"
    }
   ],
   "source": [
    "len(words)"
   ]
  },
  {
   "cell_type": "code",
   "execution_count": 55,
   "metadata": {},
   "outputs": [],
   "source": [
    "unwanted_chars = ['ß', 'à', 'ä', 'ç', 'è', 'é', 'ï', 'ñ', 'ó', 'ö', 'ü', 'ā']\n",
    "\n",
    "def contains_unwanted_chars(word):\n",
    "    return any(char in unwanted_chars for char in word)\n",
    "\n",
    "filtered_haikus = [haiku for haiku in words if not any(contains_unwanted_chars(word) for word in haiku)]"
   ]
  },
  {
   "cell_type": "code",
   "execution_count": 56,
   "metadata": {},
   "outputs": [
    {
     "data": {
      "text/plain": [
       "11235"
      ]
     },
     "execution_count": 56,
     "metadata": {},
     "output_type": "execute_result"
    }
   ],
   "source": [
    "words = filtered_haikus\n",
    "len(words)"
   ]
  },
  {
   "cell_type": "code",
   "execution_count": 57,
   "metadata": {},
   "outputs": [],
   "source": [
    "chars = sorted(list(set(''.join(words))))\n",
    "stoi = {ch: i for i, ch in enumerate(chars)}\n",
    "itos = {i: ch for ch, i in stoi.items()}"
   ]
  },
  {
   "cell_type": "code",
   "execution_count": 58,
   "metadata": {},
   "outputs": [
    {
     "data": {
      "text/plain": [
       "{' ': 0,\n",
       " \"'\": 1,\n",
       " ',': 2,\n",
       " '.': 3,\n",
       " 'a': 4,\n",
       " 'b': 5,\n",
       " 'c': 6,\n",
       " 'd': 7,\n",
       " 'e': 8,\n",
       " 'f': 9,\n",
       " 'g': 10,\n",
       " 'h': 11,\n",
       " 'i': 12,\n",
       " 'j': 13,\n",
       " 'k': 14,\n",
       " 'l': 15,\n",
       " 'm': 16,\n",
       " 'n': 17,\n",
       " 'o': 18,\n",
       " 'p': 19,\n",
       " 'q': 20,\n",
       " 'r': 21,\n",
       " 's': 22,\n",
       " 't': 23,\n",
       " 'u': 24,\n",
       " 'v': 25,\n",
       " 'w': 26,\n",
       " 'x': 27,\n",
       " 'y': 28,\n",
       " 'z': 29}"
      ]
     },
     "execution_count": 58,
     "metadata": {},
     "output_type": "execute_result"
    }
   ],
   "source": [
    "stoi"
   ]
  },
  {
   "cell_type": "code",
   "execution_count": 59,
   "metadata": {},
   "outputs": [
    {
     "name": "stdout",
     "output_type": "stream",
     "text": [
      "torch.Size([637487, 3]) torch.Size([637487])\n",
      "torch.Size([79514, 3]) torch.Size([79514])\n",
      "torch.Size([79753, 3]) torch.Size([79753])\n"
     ]
    }
   ],
   "source": [
    "def build_dataset(words):\n",
    "    block_size = 3\n",
    "    X, Y = [], []\n",
    "    for w in words:\n",
    "        context = [3] * block_size\n",
    "        for ch in w + \".\":\n",
    "            ix = stoi[ch]\n",
    "            X.append(context)\n",
    "            Y.append(ix)\n",
    "            #print(f\"'{''.join(itos[i] for i in context)}'\", '---->', itos[ix])\n",
    "\n",
    "            context = context[1:] + [ix]\n",
    "    \n",
    "    X, Y = torch.tensor(X), torch.tensor(Y)\n",
    "    print(X.shape, Y.shape)\n",
    "    return X, Y\n",
    "\n",
    "\n",
    "import random\n",
    "random.seed(43)\n",
    "\n",
    "n1 = int(0.8 * len(words))\n",
    "n2 = int(0.9 * len(words))\n",
    "\n",
    "Xtrain, Ytrain = build_dataset(words[:n1])\n",
    "Xdev, Ydev = build_dataset(words[n1:n2])\n",
    "Xtest, Ytest = build_dataset(words[n2:])"
   ]
  },
  {
   "cell_type": "code",
   "execution_count": 60,
   "metadata": {},
   "outputs": [],
   "source": [
    "g = torch.Generator().manual_seed(213139812739)\n",
    "C = torch.randn(len(chars), 10, generator=g)\n",
    "\n",
    "W1 = torch.randn((30, 200), generator=g)\n",
    "b1 = torch.randn(200, generator=g)\n",
    "\n",
    "W2 = torch.randn((200, len(chars)), generator=g) * 0.01\n",
    "b2 = torch.randn(len(chars), generator=g) * 0\n",
    "params = [C, W1, b1, W2, b2]"
   ]
  },
  {
   "cell_type": "code",
   "execution_count": 61,
   "metadata": {},
   "outputs": [],
   "source": [
    "for param in params:\n",
    "    param.requires_grad = True"
   ]
  },
  {
   "cell_type": "code",
   "execution_count": 62,
   "metadata": {},
   "outputs": [
    {
     "name": "stdout",
     "output_type": "stream",
     "text": [
      "      0/ 200000: 3.4144859313964844\n",
      "  10000/ 200000: 1.9098647832870483\n",
      "  20000/ 200000: 1.803507685661316\n",
      "  30000/ 200000: 1.9733134508132935\n",
      "  40000/ 200000: 1.7005343437194824\n",
      "  50000/ 200000: 2.022634744644165\n",
      "  60000/ 200000: 1.8622506856918335\n",
      "  70000/ 200000: 1.7281441688537598\n",
      "  80000/ 200000: 1.6634043455123901\n",
      "  90000/ 200000: 1.6902517080307007\n",
      " 100000/ 200000: 1.6961257457733154\n",
      " 110000/ 200000: 1.7178378105163574\n",
      " 120000/ 200000: 1.6769464015960693\n",
      " 130000/ 200000: 1.8368576765060425\n",
      " 140000/ 200000: 1.8164705038070679\n",
      " 150000/ 200000: 1.7573423385620117\n",
      " 160000/ 200000: 1.5369887351989746\n",
      " 170000/ 200000: 2.267834424972534\n",
      " 180000/ 200000: 1.5109503269195557\n",
      " 190000/ 200000: 1.8515267372131348\n"
     ]
    }
   ],
   "source": [
    "max_steps = 200000\n",
    "batch_size = 128 \n",
    "\n",
    "lossi = []\n",
    "\n",
    "for i in range(max_steps):\n",
    "\n",
    "    ix = torch.randint(0, Xtrain.shape[0], (batch_size,), generator=g)\n",
    "    Xb, Yb = Xtrain[ix], Ytrain[ix]\n",
    "\n",
    "    # forward pass\n",
    "    emb = C[Xb]\n",
    "    emb = emb.view(emb.shape[0], -1)\n",
    "\n",
    "    out = torch.tanh(emb @ W1 + b1)\n",
    "    out = out @ W2 + b2\n",
    "\n",
    "    loss = F.cross_entropy(out, Yb)\n",
    "\n",
    "    # backward pass\n",
    "    for p in params:\n",
    "        p.grad = None\n",
    "\n",
    "    loss.backward()\n",
    "\n",
    "    lr = 0.1 if i < 100000 else 0.01\n",
    "\n",
    "    for p in params:\n",
    "        p.data -= lr * p.grad\n",
    "\n",
    "    if i % 10000 == 0:\n",
    "        print(f'{i:7d}/{max_steps:7d}: {loss.item()}')\n",
    "    lossi.append(loss.log10().item())"
   ]
  },
  {
   "cell_type": "code",
   "execution_count": 63,
   "metadata": {},
   "outputs": [
    {
     "data": {
      "text/plain": [
       "[<matplotlib.lines.Line2D at 0x131ec90c0>]"
      ]
     },
     "execution_count": 63,
     "metadata": {},
     "output_type": "execute_result"
    },
    {
     "data": {
      "image/png": "[encoded data removed]",
      "text/plain": [
       "<Figure size 640x480 with 1 Axes>"
      ]
     },
     "metadata": {},
     "output_type": "display_data"
    }
   ],
   "source": [
    "plt.plot(lossi)"
   ]
  },
  {
   "cell_type": "code",
   "execution_count": 64,
   "metadata": {},
   "outputs": [
    {
     "data": {
      "text/plain": [
       "(1.7559022903442383, 1.7703694105148315, 1.785829782485962)"
      ]
     },
     "execution_count": 64,
     "metadata": {},
     "output_type": "execute_result"
    }
   ],
   "source": [
    "@torch.no_grad()\n",
    "def split_loss(split):\n",
    "    x,y = {\n",
    "        'train': (Xtrain, Ytrain),\n",
    "        'dev': (Xdev, Ydev),\n",
    "        'test': (Xtest, Ytest)\n",
    "    }[split]\n",
    "    emb = C[x]\n",
    "    emb = emb.view(emb.shape[0], -1)\n",
    "    out = emb @ W1 + b1\n",
    "    logits = F.tanh(out) @ W2 + b2\n",
    "    loss = F.cross_entropy(logits, y)\n",
    "\n",
    "    return loss.item()\n",
    "\n",
    "split_loss('train'), split_loss('dev'), split_loss('test')"
   ]
  },
  {
   "cell_type": "markdown",
   "metadata": {},
   "source": [
    "## Really good improvement"
   ]
  },
  {
   "cell_type": "code",
   "execution_count": 65,
   "metadata": {},
   "outputs": [
    {
     "name": "stdout",
     "output_type": "stream",
     "text": [
      "i can all ing   younderse are haveath recing \n",
      "\n",
      "hearth   soft the strance thermen spiat told mour lets  day \n",
      "\n",
      "hunthes one skiend my line bricher to love breats the would i haikuled words nour clow its hope \n",
      "\n",
      "me   i was  the vhing thoubblight   i wishird \n",
      "\n",
      "the red \n",
      "\n",
      "coconto paineckin to be \n",
      "\n",
      "along lets the enes  tear to dring and stilened \n",
      "\n",
      "whaterry i zanes   remarve freus an a bough  life leaveful rag infester corabeling the sad willust for more \n",
      "\n",
      "the nunselver casfriatls would i cle  he winted one  are of famn \n",
      "\n",
      "ancing of us deple  down   a blue  i new i was is asway   drop faile   like \n",
      "\n",
      "i fgence cast a pregreth in befucklack pubetrance  augh pine  pernet again thare \n",
      "\n",
      "poste  curly of brie \n",
      "\n",
      "i cer thirnely overgoreddirg and much in wintert nosetoday  tir stracicks have  fellent shing my am not tears shout a gux  i am nothat  my grows my whatrled on   coss ours ving fall upraying nicadistearly weath   moon \n",
      "\n",
      "six \n",
      "\n",
      "maning \n",
      "\n",
      "silence so hoice \n",
      "\n",
      "the suzsy path \n",
      "\n",
      "thiness  sure crofet a foe \n",
      "\n",
      "any you corce from today don't falling  dreach wher duotcp the ro remblan out woul senst how oh in the so fire wall hib  were dog broxe wher neach lunice pock wring about  it  was sad like sour passeet limur love scoolse are dark cragic   fromet \n",
      "\n",
      "gomorever and  tunning died wailing  onches \n",
      "\n"
     ]
    }
   ],
   "source": [
    "block_size = 3\n",
    "for _ in range(20):\n",
    "    out = []\n",
    "\n",
    "    context = [3] * block_size\n",
    "    while True:\n",
    "        emb = C[torch.tensor(context)]\n",
    "        h = torch.tanh(emb.view(1, -1) @ W1 + b1)\n",
    "        logits = h @ W2 + b2\n",
    "        probs = F.softmax(logits, dim=1)\n",
    "        ix = torch.multinomial(probs, num_samples=1, generator=g).item()\n",
    "        # print(ix)\n",
    "        context = context[1:] + [ix]\n",
    "\n",
    "        if ix == 3:\n",
    "            break\n",
    "        \n",
    "        out.append(ix)\n",
    "\n",
    "    print(''.join(itos[i] for i in out))\n",
    "    print()"
   ]
  },
  {
   "cell_type": "code",
   "execution_count": null,
   "metadata": {},
   "outputs": [],
   "source": []
  }
 ],
 "metadata": {
  "kernelspec": {
   "display_name": "Python 3",
   "language": "python",
   "name": "python3"
  },
  "language_info": {
   "codemirror_mode": {
    "name": "ipython",
    "version": 3
   },
   "file_extension": ".py",
   "mimetype": "text/x-python",
   "name": "python",
   "nbconvert_exporter": "python",
   "pygments_lexer": "ipython3",
   "version": "3.10.14"
  }
 },
 "nbformat": 4,
 "nbformat_minor": 2
}
