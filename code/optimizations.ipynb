{
 "cells": [
  {
   "cell_type": "markdown",
   "metadata": {},
   "source": [
    "## Improving the old MLP with good weight init"
   ]
  },
  {
   "cell_type": "code",
   "execution_count": 1,
   "metadata": {},
   "outputs": [],
   "source": [
    "import torch\n",
    "import torch.nn.functional as F\n",
    "import matplotlib.pyplot as plt\n",
    "%matplotlib inline"
   ]
  },
  {
   "cell_type": "code",
   "execution_count": 3,
   "metadata": {},
   "outputs": [
    {
     "data": {
      "text/plain": [
       "[\"delicate savage  you'll never hold the cinder  but still you will burn \",\n",
       " 'our destination  the skyline of this city  shining horizon ',\n",
       " 'a splash and a cry   words pulled from the riverside   dried in the hot sun ',\n",
       " 'hurt but poised for war  sturdy in crestfallen slumps  warrior spirit ',\n",
       " 'steamy mist rising  rocks receiving downward crash  as the jungle weeps ',\n",
       " 'a sultry wine night   spent with a beautiful girl   brash kiss ends smooth jazz ',\n",
       " 'you were broken glass  but i touched you even though  i knew it would hurt ',\n",
       " 'say not that i have  fled from the world but that the  world has fled from me ',\n",
       " 'eyes dance with firelight  the moon and i are lovers  the spiteful sun dies ',\n",
       " 'i woke up today  i wanted to write a song  i wrote a haiku ']"
      ]
     },
     "execution_count": 3,
     "metadata": {},
     "output_type": "execute_result"
    }
   ],
   "source": [
    "words = open(\"../lines.txt\", 'r').read().splitlines()\n",
    "words = [wr.replace(\"/\", \"\").replace(\"$\", \"\") for wr in words]\n",
    "words[:10]"
   ]
  },
  {
   "cell_type": "code",
   "execution_count": 4,
   "metadata": {},
   "outputs": [
    {
     "data": {
      "text/plain": [
       "11269"
      ]
     },
     "execution_count": 4,
     "metadata": {},
     "output_type": "execute_result"
    }
   ],
   "source": [
    "len(words)"
   ]
  },
  {
   "cell_type": "code",
   "execution_count": 5,
   "metadata": {},
   "outputs": [],
   "source": [
    "unwanted_chars = ['ß', 'à', 'ä', 'ç', 'è', 'é', 'ï', 'ñ', 'ó', 'ö', 'ü', 'ā']\n",
    "\n",
    "def contains_unwanted_chars(word):\n",
    "    return any(char in unwanted_chars for char in word)\n",
    "\n",
    "filtered_haikus = [haiku for haiku in words if not any(contains_unwanted_chars(word) for word in haiku)]"
   ]
  },
  {
   "cell_type": "code",
   "execution_count": 6,
   "metadata": {},
   "outputs": [
    {
     "data": {
      "text/plain": [
       "11235"
      ]
     },
     "execution_count": 6,
     "metadata": {},
     "output_type": "execute_result"
    }
   ],
   "source": [
    "words = filtered_haikus\n",
    "len(words)"
   ]
  },
  {
   "cell_type": "code",
   "execution_count": 7,
   "metadata": {},
   "outputs": [],
   "source": [
    "chars = sorted(list(set(''.join(words))))\n",
    "stoi = {ch: i for i, ch in enumerate(chars)}\n",
    "itos = {i: ch for ch, i in stoi.items()}"
   ]
  },
  {
   "cell_type": "code",
   "execution_count": 8,
   "metadata": {},
   "outputs": [
    {
     "data": {
      "text/plain": [
       "{' ': 0,\n",
       " \"'\": 1,\n",
       " ',': 2,\n",
       " '.': 3,\n",
       " 'a': 4,\n",
       " 'b': 5,\n",
       " 'c': 6,\n",
       " 'd': 7,\n",
       " 'e': 8,\n",
       " 'f': 9,\n",
       " 'g': 10,\n",
       " 'h': 11,\n",
       " 'i': 12,\n",
       " 'j': 13,\n",
       " 'k': 14,\n",
       " 'l': 15,\n",
       " 'm': 16,\n",
       " 'n': 17,\n",
       " 'o': 18,\n",
       " 'p': 19,\n",
       " 'q': 20,\n",
       " 'r': 21,\n",
       " 's': 22,\n",
       " 't': 23,\n",
       " 'u': 24,\n",
       " 'v': 25,\n",
       " 'w': 26,\n",
       " 'x': 27,\n",
       " 'y': 28,\n",
       " 'z': 29}"
      ]
     },
     "execution_count": 8,
     "metadata": {},
     "output_type": "execute_result"
    }
   ],
   "source": [
    "stoi"
   ]
  },
  {
   "cell_type": "code",
   "execution_count": 9,
   "metadata": {},
   "outputs": [
    {
     "name": "stdout",
     "output_type": "stream",
     "text": [
      "torch.Size([637487, 3]) torch.Size([637487])\n",
      "torch.Size([79514, 3]) torch.Size([79514])\n",
      "torch.Size([79753, 3]) torch.Size([79753])\n"
     ]
    }
   ],
   "source": [
    "def build_dataset(words):\n",
    "    block_size = 3\n",
    "    X, Y = [], []\n",
    "    for w in words:\n",
    "        context = [3] * block_size\n",
    "        for ch in w + \".\":\n",
    "            ix = stoi[ch]\n",
    "            X.append(context)\n",
    "            Y.append(ix)\n",
    "            #print(f\"'{''.join(itos[i] for i in context)}'\", '---->', itos[ix])\n",
    "\n",
    "            context = context[1:] + [ix]\n",
    "    \n",
    "    X, Y = torch.tensor(X), torch.tensor(Y)\n",
    "    print(X.shape, Y.shape)\n",
    "    return X, Y\n",
    "\n",
    "\n",
    "import random\n",
    "random.seed(43)\n",
    "\n",
    "n1 = int(0.8 * len(words))\n",
    "n2 = int(0.9 * len(words))\n",
    "\n",
    "Xtrain, Ytrain = build_dataset(words[:n1])\n",
    "Xdev, Ydev = build_dataset(words[n1:n2])\n",
    "Xtest, Ytest = build_dataset(words[n2:])"
   ]
  },
  {
   "cell_type": "code",
   "execution_count": 10,
   "metadata": {},
   "outputs": [],
   "source": [
    "g = torch.Generator().manual_seed(213139812739)\n",
    "C = torch.randn(len(chars), 10, generator=g)\n",
    "\n",
    "W1 = torch.randn((30, 200), generator=g)\n",
    "b1 = torch.randn(200, generator=g)\n",
    "\n",
    "W2 = torch.randn((200, len(chars)), generator=g) * 0.01\n",
    "b2 = torch.randn(len(chars), generator=g) * 0\n",
    "params = [C, W1, b1, W2, b2]"
   ]
  },
  {
   "cell_type": "code",
   "execution_count": 11,
   "metadata": {},
   "outputs": [
    {
     "data": {
      "text/plain": [
       "12530"
      ]
     },
     "execution_count": 11,
     "metadata": {},
     "output_type": "execute_result"
    }
   ],
   "source": [
    "# print total parameters\n",
    "sum(p.numel() for p in params)"
   ]
  },
  {
   "cell_type": "code",
   "execution_count": 25,
   "metadata": {},
   "outputs": [],
   "source": [
    "for param in params:\n",
    "    param.requires_grad = True"
   ]
  },
  {
   "cell_type": "code",
   "execution_count": 26,
   "metadata": {},
   "outputs": [
    {
     "name": "stdout",
     "output_type": "stream",
     "text": [
      "      0/ 200000: 3.4144859313964844\n",
      "  10000/ 200000: 1.9098647832870483\n",
      "  20000/ 200000: 1.803507685661316\n",
      "  30000/ 200000: 1.9733134508132935\n",
      "  40000/ 200000: 1.7005343437194824\n",
      "  50000/ 200000: 2.022634744644165\n",
      "  60000/ 200000: 1.8622506856918335\n",
      "  70000/ 200000: 1.7281441688537598\n",
      "  80000/ 200000: 1.6634043455123901\n",
      "  90000/ 200000: 1.6902517080307007\n",
      " 100000/ 200000: 1.6961257457733154\n",
      " 110000/ 200000: 1.7178378105163574\n",
      " 120000/ 200000: 1.6769464015960693\n",
      " 130000/ 200000: 1.8368576765060425\n",
      " 140000/ 200000: 1.8164705038070679\n",
      " 150000/ 200000: 1.7573423385620117\n",
      " 160000/ 200000: 1.5369887351989746\n",
      " 170000/ 200000: 2.267834424972534\n",
      " 180000/ 200000: 1.5109503269195557\n",
      " 190000/ 200000: 1.8515267372131348\n"
     ]
    }
   ],
   "source": [
    "max_steps = 200000\n",
    "batch_size = 128 \n",
    "\n",
    "lossi = []\n",
    "\n",
    "for i in range(max_steps):\n",
    "\n",
    "    ix = torch.randint(0, Xtrain.shape[0], (batch_size,), generator=g)\n",
    "    Xb, Yb = Xtrain[ix], Ytrain[ix]\n",
    "\n",
    "    # forward pass\n",
    "    emb = C[Xb]\n",
    "    emb = emb.view(emb.shape[0], -1)\n",
    "    pretanh = (emb @ W1 + b1)\n",
    "    h = torch.tanh(pretanh)\n",
    "    out = h @ W2 + b2\n",
    "\n",
    "    loss = F.cross_entropy(out, Yb)\n",
    "\n",
    "    # backward pass\n",
    "    for p in params:\n",
    "        p.grad = None\n",
    "\n",
    "    loss.backward()\n",
    "\n",
    "    lr = 0.1 if i < 100000 else 0.01\n",
    "\n",
    "    for p in params:\n",
    "        p.data -= lr * p.grad\n",
    "\n",
    "    if i % 10000 == 0:\n",
    "        print(f'{i:7d}/{max_steps:7d}: {loss.item()}')\n",
    "    lossi.append(loss.log10().item())"
   ]
  },
  {
   "cell_type": "code",
   "execution_count": 27,
   "metadata": {},
   "outputs": [
    {
     "data": {
      "text/plain": [
       "[<matplotlib.lines.Line2D at 0x132599090>]"
      ]
     },
     "execution_count": 27,
     "metadata": {},
     "output_type": "execute_result"
    },
    {
     "data": {
      "image/png": "[encoded data removed]",
      "text/plain": [
       "<Figure size 640x480 with 1 Axes>"
      ]
     },
     "metadata": {},
     "output_type": "display_data"
    }
   ],
   "source": [
    "plt.plot(lossi)"
   ]
  },
  {
   "cell_type": "code",
   "execution_count": 28,
   "metadata": {},
   "outputs": [
    {
     "data": {
      "text/plain": [
       "(1.7559022903442383, 1.7703694105148315, 1.785829782485962)"
      ]
     },
     "execution_count": 28,
     "metadata": {},
     "output_type": "execute_result"
    }
   ],
   "source": [
    "@torch.no_grad()\n",
    "def split_loss(split):\n",
    "    x,y = {\n",
    "        'train': (Xtrain, Ytrain),\n",
    "        'dev': (Xdev, Ydev),\n",
    "        'test': (Xtest, Ytest)\n",
    "    }[split]\n",
    "    emb = C[x]\n",
    "    emb = emb.view(emb.shape[0], -1)\n",
    "    out = emb @ W1 + b1\n",
    "    logits = F.tanh(out) @ W2 + b2\n",
    "    loss = F.cross_entropy(logits, y)\n",
    "\n",
    "    return loss.item()\n",
    "\n",
    "split_loss('train'), split_loss('dev'), split_loss('test')"
   ]
  },
  {
   "cell_type": "markdown",
   "metadata": {},
   "source": [
    "## Really good improvement"
   ]
  },
  {
   "cell_type": "markdown",
   "metadata": {},
   "source": [
    "## Activation problems -> most values are 1 or -1"
   ]
  },
  {
   "cell_type": "code",
   "execution_count": 41,
   "metadata": {},
   "outputs": [
    {
     "data": {
      "text/plain": [
       "<matplotlib.image.AxesImage at 0x13278e890>"
      ]
     },
     "execution_count": 41,
     "metadata": {},
     "output_type": "execute_result"
    },
    {
     "data": {
      "image/png": "[encoded data removed]",
      "text/plain": [
       "<Figure size 1000x500 with 1 Axes>"
      ]
     },
     "metadata": {},
     "output_type": "display_data"
    }
   ],
   "source": [
    "plt.figure(figsize=(10, 5))\n",
    "plt.imshow(h.abs() > 0.99, cmap=\"gray\", interpolation=\"nearest\")"
   ]
  },
  {
   "cell_type": "code",
   "execution_count": 29,
   "metadata": {},
   "outputs": [
    {
     "data": {
      "text/plain": [
       "(array([10671.,   379.,   204.,   156.,   142.,   108.,    97.,    79.,\n",
       "           71.,    78.,    50.,    52.,    50.,    59.,    55.,    54.,\n",
       "           44.,    38.,    38.,    52.,    36.,    47.,    34.,    30.,\n",
       "           38.,    45.,    41.,    35.,    31.,    34.,    47.,    39.,\n",
       "           50.,    49.,    42.,    67.,    64.,    51.,    54.,    51.,\n",
       "           80.,    81.,    77.,    93.,   120.,   127.,   147.,   225.,\n",
       "          390., 10898.]),\n",
       " array([-1.  , -0.96, -0.92, -0.88, -0.84, -0.8 , -0.76, -0.72, -0.68,\n",
       "        -0.64, -0.6 , -0.56, -0.52, -0.48, -0.44, -0.4 , -0.36, -0.32,\n",
       "        -0.28, -0.24, -0.2 , -0.16, -0.12, -0.08, -0.04,  0.  ,  0.04,\n",
       "         0.08,  0.12,  0.16,  0.2 ,  0.24,  0.28,  0.32,  0.36,  0.4 ,\n",
       "         0.44,  0.48,  0.52,  0.56,  0.6 ,  0.64,  0.68,  0.72,  0.76,\n",
       "         0.8 ,  0.84,  0.88,  0.92,  0.96,  1.  ]),\n",
       " <BarContainer object of 50 artists>)"
      ]
     },
     "execution_count": 29,
     "metadata": {},
     "output_type": "execute_result"
    },
    {
     "data": {
      "image/png": "[encoded data removed]",
      "text/plain": [
       "<Figure size 640x480 with 1 Axes>"
      ]
     },
     "metadata": {},
     "output_type": "display_data"
    }
   ],
   "source": [
    "plt.hist(h.view(-1).tolist(), 50)"
   ]
  },
  {
   "cell_type": "code",
   "execution_count": 30,
   "metadata": {},
   "outputs": [
    {
     "data": {
      "text/plain": [
       "(array([1.000e+00, 0.000e+00, 2.000e+00, 5.000e+00, 2.000e+00, 1.400e+01,\n",
       "        1.600e+01, 5.000e+01, 5.500e+01, 6.400e+01, 1.110e+02, 1.070e+02,\n",
       "        1.860e+02, 2.560e+02, 3.370e+02, 4.240e+02, 5.760e+02, 7.280e+02,\n",
       "        9.410e+02, 1.078e+03, 1.205e+03, 1.392e+03, 1.432e+03, 1.633e+03,\n",
       "        1.684e+03, 1.647e+03, 1.687e+03, 1.585e+03, 1.515e+03, 1.274e+03,\n",
       "        1.134e+03, 9.500e+02, 7.940e+02, 6.590e+02, 5.620e+02, 4.190e+02,\n",
       "        3.240e+02, 2.090e+02, 1.800e+02, 1.120e+02, 9.700e+01, 6.500e+01,\n",
       "        3.600e+01, 1.700e+01, 1.300e+01, 5.000e+00, 5.000e+00, 4.000e+00,\n",
       "        2.000e+00, 6.000e+00]),\n",
       " array([-40.6934166 , -39.08099655, -37.46857651, -35.85615646,\n",
       "        -34.24373642, -32.63131638, -31.01889633, -29.40647629,\n",
       "        -27.79405624, -26.1816362 , -24.56921616, -22.95679611,\n",
       "        -21.34437607, -19.73195602, -18.11953598, -16.50711594,\n",
       "        -14.89469589, -13.28227585, -11.6698558 , -10.05743576,\n",
       "         -8.44501572,  -6.83259567,  -5.22017563,  -3.60775558,\n",
       "         -1.99533554,  -0.3829155 ,   1.22950455,   2.84192459,\n",
       "          4.45434464,   6.06676468,   7.67918472,   9.29160477,\n",
       "         10.90402481,  12.51644485,  14.1288649 ,  15.74128494,\n",
       "         17.35370499,  18.96612503,  20.57854507,  22.19096512,\n",
       "         23.80338516,  25.41580521,  27.02822525,  28.64064529,\n",
       "         30.25306534,  31.86548538,  33.47790543,  35.09032547,\n",
       "         36.70274551,  38.31516556,  39.9275856 ]),\n",
       " <BarContainer object of 50 artists>)"
      ]
     },
     "execution_count": 30,
     "metadata": {},
     "output_type": "execute_result"
    },
    {
     "data": {
      "image/png": "[encoded data removed]",
      "text/plain": [
       "<Figure size 640x480 with 1 Axes>"
      ]
     },
     "metadata": {},
     "output_type": "display_data"
    }
   ],
   "source": [
    "plt.hist(pretanh.view(-1).tolist(), 50)"
   ]
  },
  {
   "cell_type": "markdown",
   "metadata": {},
   "source": [
    "### This can be fixed by scaling down weights"
   ]
  },
  {
   "cell_type": "code",
   "execution_count": 172,
   "metadata": {},
   "outputs": [],
   "source": [
    "n_embd = 10\n",
    "block_size = 3\n",
    "neurons = 200\n",
    "\n",
    "g = torch.Generator().manual_seed(213139812739)\n",
    "C = torch.randn(len(chars), 10, generator=g)\n",
    "\n",
    "# kaiming normal\n",
    "W1 = torch.randn((n_embd * block_size, neurons), generator=g) * 5/3 / (n_embd * block_size) ** 0.5\n",
    "b1 = torch.randn(neurons, generator=g) * 0.01\n",
    " \n",
    "W2 = torch.randn((neurons, len(chars)), generator=g) * 0.01\n",
    "b2 = torch.randn(len(chars), generator=g) * 0\n",
    "\n",
    "bngain = torch.ones((1, neurons))\n",
    "bnbias = torch.zeros((1, neurons))\n",
    "bnmean_running = torch.zeros((1, neurons))\n",
    "bnstd_running = torch.ones((1, neurons))\n",
    "\n",
    "params = [C, W1, b1, W2, b2, bngain, bnbias]"
   ]
  },
  {
   "cell_type": "code",
   "execution_count": 173,
   "metadata": {},
   "outputs": [
    {
     "name": "stdout",
     "output_type": "stream",
     "text": [
      "torch.Size([637487, 3]) torch.Size([637487])\n",
      "torch.Size([79514, 3]) torch.Size([79514])\n",
      "torch.Size([79753, 3]) torch.Size([79753])\n"
     ]
    }
   ],
   "source": [
    "Xtrain, Ytrain = build_dataset(words[:n1])\n",
    "Xdev, Ydev = build_dataset(words[n1:n2])\n",
    "Xtest, Ytest = build_dataset(words[n2:])"
   ]
  },
  {
   "cell_type": "code",
   "execution_count": 174,
   "metadata": {},
   "outputs": [],
   "source": [
    "for param in params:\n",
    "    param.requires_grad = True"
   ]
  },
  {
   "cell_type": "code",
   "execution_count": 53,
   "metadata": {},
   "outputs": [
    {
     "data": {
      "text/plain": [
       "(array([ 34.,  98., 167., 216., 293., 366., 387., 427., 485., 490., 573.,\n",
       "        620., 608., 619., 692., 654., 770., 685., 654., 753., 734., 676.,\n",
       "        705., 713., 712., 817., 747., 765., 729., 714., 673., 677., 692.,\n",
       "        660., 619., 611., 556., 573., 531., 489., 499., 431., 402., 365.,\n",
       "        301., 243., 172., 110.,  67.,  26.]),\n",
       " array([-0.98391962, -0.94442671, -0.90493379, -0.86544088, -0.82594797,\n",
       "        -0.78645505, -0.74696214, -0.70746923, -0.66797631, -0.6284834 ,\n",
       "        -0.58899049, -0.54949757, -0.51000466, -0.47051175, -0.43101883,\n",
       "        -0.39152592, -0.352033  , -0.31254009, -0.27304718, -0.23355426,\n",
       "        -0.19406135, -0.15456844, -0.11507552, -0.07558261, -0.0360897 ,\n",
       "         0.00340322,  0.04289613,  0.08238904,  0.12188196,  0.16137487,\n",
       "         0.20086778,  0.2403607 ,  0.27985361,  0.31934652,  0.35883944,\n",
       "         0.39833235,  0.43782526,  0.47731818,  0.51681109,  0.55630401,\n",
       "         0.59579692,  0.63528983,  0.67478275,  0.71427566,  0.75376857,\n",
       "         0.79326149,  0.8327544 ,  0.87224731,  0.91174023,  0.95123314,\n",
       "         0.99072605]),\n",
       " <BarContainer object of 50 artists>)"
      ]
     },
     "execution_count": 53,
     "metadata": {},
     "output_type": "execute_result"
    },
    {
     "data": {
      "image/png": "[encoded data removed]",
      "text/plain": [
       "<Figure size 640x480 with 1 Axes>"
      ]
     },
     "metadata": {},
     "output_type": "display_data"
    }
   ],
   "source": [
    "plt.hist(h.view(-1).tolist(), 50)"
   ]
  },
  {
   "cell_type": "code",
   "execution_count": 54,
   "metadata": {},
   "outputs": [
    {
     "data": {
      "text/plain": [
       "<matplotlib.image.AxesImage at 0x16bb9ba30>"
      ]
     },
     "execution_count": 54,
     "metadata": {},
     "output_type": "execute_result"
    },
    {
     "data": {
      "image/png": "[encoded data removed]",
      "text/plain": [
       "<Figure size 1000x500 with 1 Axes>"
      ]
     },
     "metadata": {},
     "output_type": "display_data"
    }
   ],
   "source": [
    "plt.figure(figsize=(10, 5))\n",
    "plt.imshow(h.abs() > 0.99, cmap=\"gray\", interpolation=\"nearest\")"
   ]
  },
  {
   "cell_type": "code",
   "execution_count": 175,
   "metadata": {},
   "outputs": [
    {
     "name": "stdout",
     "output_type": "stream",
     "text": [
      "      0/ 200000: 3.444597005844116\n",
      "  10000/ 200000: 1.5908865928649902\n",
      "  20000/ 200000: 1.9449756145477295\n",
      "  30000/ 200000: 2.001439094543457\n",
      "  40000/ 200000: 1.7461930513381958\n",
      "  50000/ 200000: 1.7514716386795044\n",
      "  60000/ 200000: 1.8520053625106812\n",
      "  70000/ 200000: 1.8462045192718506\n",
      "  80000/ 200000: 1.6732219457626343\n",
      "  90000/ 200000: 2.0021770000457764\n",
      " 100000/ 200000: 2.097975015640259\n",
      " 110000/ 200000: 2.1307270526885986\n",
      " 120000/ 200000: 2.043989658355713\n",
      " 130000/ 200000: 1.441300630569458\n",
      " 140000/ 200000: 1.725790023803711\n",
      " 150000/ 200000: 1.9680384397506714\n",
      " 160000/ 200000: 2.3110814094543457\n",
      " 170000/ 200000: 1.8335788249969482\n",
      " 180000/ 200000: 2.2168760299682617\n",
      " 190000/ 200000: 1.8376322984695435\n",
      " 199999/ 200000: 2.0261404514312744\n"
     ]
    }
   ],
   "source": [
    "max_steps = 200000\n",
    "batch_size = 32\n",
    "\n",
    "lossi = []\n",
    "log_lossi = []\n",
    "eps = 1e-3\n",
    "\n",
    "for i in range(max_steps):\n",
    "\n",
    "    ix = torch.randint(0, Xtrain.shape[0], (batch_size,), generator=g)\n",
    "    Xb, Yb = Xtrain[ix], Ytrain[ix]\n",
    "\n",
    "    # forward pass\n",
    "    emb = C[Xb]\n",
    "    emb = emb.view(emb.shape[0], -1)\n",
    "    pretanh = (emb @ W1 + b1)\n",
    "\n",
    "    # batch normalization\n",
    "    mean = pretanh.mean(0, keepdim=True)\n",
    "    std = pretanh.std(0, keepdim=True)\n",
    "    pretanh = (pretanh - mean) / (std + eps)\n",
    "    # shift and scale\n",
    "    pretanh = pretanh * bngain + bnbias\n",
    "\n",
    "    with torch.no_grad():\n",
    "        bnmean_running = 0.999 * bnmean_running + 0.001 * mean\n",
    "        bnstd_running = 0.999 * bnstd_running + 0.001 * std\n",
    "\n",
    "    h = torch.tanh(pretanh)\n",
    "    out = h @ W2 + b2\n",
    "\n",
    "    loss = F.cross_entropy(out, Yb)\n",
    "\n",
    "    # backward pass\n",
    "    for p in params:\n",
    "        p.grad = None\n",
    "\n",
    "    loss.backward()\n",
    "\n",
    "    lr = 0.1 if i < 100000 else 0.01\n",
    "\n",
    "    for p in params:\n",
    "        p.data -= lr * p.grad\n",
    "\n",
    "    if i % 10000 == 0 or i + 1 == max_steps:\n",
    "        print(f'{i:7d}/{max_steps:7d}: {loss.item()}')\n",
    "\n",
    "    lossi.append(loss.item())\n",
    "    log_lossi.append(loss.log10().item())\n"
   ]
  },
  {
   "cell_type": "code",
   "execution_count": 176,
   "metadata": {},
   "outputs": [],
   "source": [
    "@torch.no_grad()\n",
    "def split_loss(split):\n",
    "    x,y = {\n",
    "        'train': (Xtrain, Ytrain),\n",
    "        'dev': (Xdev, Ydev),\n",
    "        'test': (Xtest, Ytest)\n",
    "    }[split]\n",
    "    emb = C[x]\n",
    "    emb = emb.view(emb.shape[0], -1)\n",
    "    pretanh = (emb @ W1 + b1)\n",
    "    pretanh = (pretanh - bnmean_running) / (bnstd_running + eps)\n",
    "    # shift and scale\n",
    "    pretanh = pretanh * bngain + bnbias\n",
    "    h = torch.tanh(pretanh)\n",
    "    out = h @ W2 + b2   \n",
    "    loss = F.cross_entropy(out, y)\n",
    "\n",
    "    return loss.item()"
   ]
  },
  {
   "cell_type": "code",
   "execution_count": 169,
   "metadata": {},
   "outputs": [
    {
     "data": {
      "text/plain": [
       "[<matplotlib.lines.Line2D at 0x137a5c250>]"
      ]
     },
     "execution_count": 169,
     "metadata": {},
     "output_type": "execute_result"
    },
    {
     "data": {
      "image/png": "[encoded data removed]",
      "text/plain": [
       "<Figure size 640x480 with 1 Axes>"
      ]
     },
     "metadata": {},
     "output_type": "display_data"
    }
   ],
   "source": [
    "plt.plot(lossi)"
   ]
  },
  {
   "cell_type": "markdown",
   "metadata": {},
   "source": [
    "### Improvement!!\n",
    "\n",
    "### Pre weight init optimization -> (1.7559022903442383, 1.7703694105148315, 1.785829782485962)\n",
    "### Post weight init optimization -> (1.7148950099945068, 1.729537844657898, 1.7452518939971924)\n",
    "### Post Batch norm -> (1.77047860622406, 1.7761619091033936, 1.7911485433578491)"
   ]
  },
  {
   "cell_type": "code",
   "execution_count": 177,
   "metadata": {},
   "outputs": [
    {
     "data": {
      "text/plain": [
       "(1.7705973386764526, 1.7762926816940308, 1.7913038730621338)"
      ]
     },
     "execution_count": 177,
     "metadata": {},
     "output_type": "execute_result"
    }
   ],
   "source": [
    "split_loss('train'), split_loss('dev'), split_loss('test')"
   ]
  },
  {
   "cell_type": "code",
   "execution_count": 179,
   "metadata": {},
   "outputs": [
    {
     "name": "stdout",
     "output_type": "stream",
     "text": [
      "my like afting on all that it sun i go hill toshine wide i smell slicking the but and brang \n",
      "\n",
      "love \n",
      "\n",
      "ear word is sun sins colds of on in cold \n",
      "\n",
      "the eder samer firer's yeged to blanchone poean \n",
      "\n",
      "my hair and it of godtinn sumwelling always \n",
      "\n",
      "sing tired clearts i \n",
      "\n",
      "must hundertain therent be vame  drest i smill now a chold breame clashbove griend tone \n",
      "\n",
      "sione watch all good grinco nights all chank tiges a move  a swife the were from the me and exhelpemeding agains  mome no not ander light bus you was sight leave tring natain  to blast i cry reflecty blue's no mes hode tosess perfling in hear am heir  was  here \n",
      "\n",
      "i ted to your patting rains the mile celiness \n",
      "\n",
      "stone nowhy or fricall seekze to word they \n",
      "\n",
      "i leave cool a ver the have sucked to bothe red and nevellinessed in home \n",
      "\n",
      "easks solflyain a forghour shy fend to your splayresh at up \n",
      "\n",
      "on your trant is what to now \n",
      "\n",
      "one \n",
      "\n",
      "the the for again theys of my he won't ther the like morn \n",
      "\n",
      "beful feel \n",
      "\n",
      "wine woulderf cretempere day in my carreft the soft and close actans has down a p all cly \n",
      "\n",
      "prengone forning grave is ands alched and but in unds it bongivence my and manight anxed time \n",
      "\n",
      "kgast is night \n",
      "\n",
      "my stake morever soges spe but string cared be ampile reaf the day you \n",
      "\n"
     ]
    }
   ],
   "source": [
    "block_size = 3\n",
    "for _ in range(20):\n",
    "    res = []\n",
    "\n",
    "    context = [3] * block_size\n",
    "    while True:\n",
    "        emb = C[torch.tensor(context)]\n",
    "        emb = emb.view(1, -1)\n",
    "        pretanh = (emb @ W1 + b1)\n",
    "        pretanh = (pretanh - bnmean_running) / (bnstd_running + eps)\n",
    "        pretanh = pretanh * bngain + bnbias\n",
    "        h = torch.tanh(pretanh)\n",
    "        out = h @ W2 + b2\n",
    "        out = F.softmax(out, dim=1)\n",
    "        out = torch.multinomial(out[0], 1).item()\n",
    "        if out == 3:\n",
    "            break\n",
    "        context = context[1:] + [out]\n",
    "\n",
    "        res.append(out)\n",
    "\n",
    "    print(''.join(itos[i] for i in res).replace(\"  \", \" \"))\n",
    "    print()"
   ]
  },
  {
   "cell_type": "code",
   "execution_count": null,
   "metadata": {},
   "outputs": [],
   "source": []
  }
 ],
 "metadata": {
  "kernelspec": {
   "display_name": "Python 3",
   "language": "python",
   "name": "python3"
  },
  "language_info": {
   "codemirror_mode": {
    "name": "ipython",
    "version": 3
   },
   "file_extension": ".py",
   "mimetype": "text/x-python",
   "name": "python",
   "nbconvert_exporter": "python",
   "pygments_lexer": "ipython3",
   "version": "3.10.6"
  }
 },
 "nbformat": 4,
 "nbformat_minor": 2
}
